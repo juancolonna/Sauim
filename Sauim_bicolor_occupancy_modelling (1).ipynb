{
  "cells": [
    {
      "cell_type": "markdown",
      "source": [
        "2012- Robert M Dorazio & J. Andrew Royle. Estimating Size and Composition of Biological Communities by Modeling the occurrence of Species.\n",
        "https://doi.org/10.1198/016214505000000015\n",
        "\n",
        "Zero-inflated model\n",
        "\n",
        "MacKenzie et al. 2006\n",
        "\n",
        "MacKenzie et al. 2002"
      ],
      "metadata": {
        "id": "-NMT6ojjDNlD"
      }
    },
    {
      "cell_type": "code",
      "source": [
        "import shutil\n",
        "import os\n",
        "import zipfile\n",
        "from joblib import dump, load\n",
        "import numpy as np\n",
        "from matplotlib import pyplot as plt\n",
        "from matplotlib.patches import Patch  # for legend patch\n",
        "from scipy.optimize import minimize_scalar\n",
        "from scipy.stats import norm, beta"
      ],
      "metadata": {
        "id": "eJDdUdOO8B_r"
      },
      "execution_count": 1,
      "outputs": []
    },
    {
      "cell_type": "code",
      "source": [
        "# Remove the directory and all its contents\n",
        "if os.path.exists('MinduPark'):\n",
        "    shutil.rmtree('MinduPark')\n",
        "    print(\"Folder 'MinduPark' removed.\")\n",
        "if os.path.exists('MinduPark_without_sauim'):\n",
        "    shutil.rmtree('MinduPark_without_sauim')\n",
        "    print(\"Folder 'MinduPark_without_sauim' removed.\")"
      ],
      "metadata": {
        "id": "vmzplud6tGG9",
        "colab": {
          "base_uri": "https://localhost:8080/"
        },
        "outputId": "2990393e-9e7d-4005-e98c-cc16b96e23e2"
      },
      "execution_count": 2,
      "outputs": [
        {
          "output_type": "stream",
          "name": "stdout",
          "text": [
            "Folder 'MinduPark' removed.\n",
            "Folder 'MinduPark_without_sauim' removed.\n"
          ]
        }
      ]
    },
    {
      "cell_type": "markdown",
      "source": [
        "Auxiliar funtions"
      ],
      "metadata": {
        "id": "TCed0ltCQCHs"
      }
    },
    {
      "cell_type": "code",
      "source": [
        "def w_mle_variance_ci(k, K, p11):\n",
        "    \"\"\"\n",
        "    Estima w_hat, Var(w_hat) e SE(w_hat)\n",
        "    no modelo q = w * p11, k ~ Bin(K, q).\n",
        "\n",
        "    Parâmetros:\n",
        "      k    : nº de sítios com ≥1 detecção\n",
        "      K    : nº total de sítios\n",
        "      p11  : prob. de detecção quando ocupado (fixa/conhecida)\n",
        "\n",
        "    Retorna:\n",
        "      dict com w_hat, var_wald, se_wald\n",
        "    \"\"\"\n",
        "    if not (0 <= k <= K):\n",
        "        raise ValueError(\"Exige 0 <= k <= K.\")\n",
        "    if not (0 < p11 <= 1):\n",
        "        raise ValueError(\"Exige 0 < p11 <= 1.\")\n",
        "\n",
        "    # MLE fechada\n",
        "    q_hat = k / K\n",
        "    w_hat = np.clip(q_hat / p11, 0.0, 1.0)\n",
        "\n",
        "    # Variância (delta-método) e SE\n",
        "    var_wald = (q_hat * (1 - q_hat)) / (K * (p11 ** 2))\n",
        "    se_wald = float(np.sqrt(max(var_wald, 0.0)))\n",
        "\n",
        "    return {\n",
        "        \"w_hat\": float(w_hat),\n",
        "        \"var_wald\": float(var_wald),\n",
        "        \"se_wald\": se_wald,\n",
        "    }"
      ],
      "metadata": {
        "id": "C8ktzC9lQEcb"
      },
      "execution_count": 3,
      "outputs": []
    },
    {
      "cell_type": "markdown",
      "source": [
        "## Ocumpacy modeling"
      ],
      "metadata": {
        "id": "4n2bF-1Q2RcS"
      }
    },
    {
      "cell_type": "markdown",
      "metadata": {
        "id": "Eldke65Zhynt"
      },
      "source": [
        "Automatically download the necessary files"
      ]
    },
    {
      "cell_type": "code",
      "source": [
        "!wget https://github.com/juancolonna/Sauim/raw/main/MinduPark.zip -O MinduPark.zip\n",
        "!wget https://github.com/juancolonna/Sauim/raw/main/MinduPark_without_sauim.zip -O MinduPark_without_sauim.zip\n",
        "!wget https://github.com/juancolonna/Sauim/raw/main/ocsvm_filtered.joblib -O ocsvm_filtered.joblib"
      ],
      "metadata": {
        "colab": {
          "base_uri": "https://localhost:8080/"
        },
        "id": "uohHR9HvB1YX",
        "outputId": "9513e628-d1ac-4ba9-8913-9436c102a297"
      },
      "execution_count": 4,
      "outputs": [
        {
          "output_type": "stream",
          "name": "stdout",
          "text": [
            "--2025-08-30 06:28:19--  https://github.com/juancolonna/Sauim/raw/main/MinduPark.zip\n",
            "Resolving github.com (github.com)... 140.82.116.4\n",
            "Connecting to github.com (github.com)|140.82.116.4|:443... connected.\n",
            "HTTP request sent, awaiting response... 302 Found\n",
            "Location: https://media.githubusercontent.com/media/juancolonna/Sauim/main/MinduPark.zip [following]\n",
            "--2025-08-30 06:28:19--  https://media.githubusercontent.com/media/juancolonna/Sauim/main/MinduPark.zip\n",
            "Resolving media.githubusercontent.com (media.githubusercontent.com)... 185.199.109.133, 185.199.110.133, 185.199.108.133, ...\n",
            "Connecting to media.githubusercontent.com (media.githubusercontent.com)|185.199.109.133|:443... connected.\n",
            "HTTP request sent, awaiting response... 200 OK\n",
            "Length: 42146012 (40M) [application/zip]\n",
            "Saving to: ‘MinduPark.zip’\n",
            "\n",
            "MinduPark.zip       100%[===================>]  40.19M  63.1MB/s    in 0.6s    \n",
            "\n",
            "2025-08-30 06:28:20 (63.1 MB/s) - ‘MinduPark.zip’ saved [42146012/42146012]\n",
            "\n",
            "--2025-08-30 06:28:20--  https://github.com/juancolonna/Sauim/raw/main/MinduPark_without_sauim.zip\n",
            "Resolving github.com (github.com)... 140.82.116.4\n",
            "Connecting to github.com (github.com)|140.82.116.4|:443... connected.\n",
            "HTTP request sent, awaiting response... 302 Found\n",
            "Location: https://media.githubusercontent.com/media/juancolonna/Sauim/main/MinduPark_without_sauim.zip [following]\n",
            "--2025-08-30 06:28:21--  https://media.githubusercontent.com/media/juancolonna/Sauim/main/MinduPark_without_sauim.zip\n",
            "Resolving media.githubusercontent.com (media.githubusercontent.com)... 185.199.109.133, 185.199.110.133, 185.199.108.133, ...\n",
            "Connecting to media.githubusercontent.com (media.githubusercontent.com)|185.199.109.133|:443... connected.\n",
            "HTTP request sent, awaiting response... 200 OK\n",
            "Length: 32659512 (31M) [application/zip]\n",
            "Saving to: ‘MinduPark_without_sauim.zip’\n",
            "\n",
            "MinduPark_without_s 100%[===================>]  31.15M  54.9MB/s    in 0.6s    \n",
            "\n",
            "2025-08-30 06:28:21 (54.9 MB/s) - ‘MinduPark_without_sauim.zip’ saved [32659512/32659512]\n",
            "\n",
            "--2025-08-30 06:28:21--  https://github.com/juancolonna/Sauim/raw/main/ocsvm_filtered.joblib\n",
            "Resolving github.com (github.com)... 140.82.116.3\n",
            "Connecting to github.com (github.com)|140.82.116.3|:443... connected.\n",
            "HTTP request sent, awaiting response... 302 Found\n",
            "Location: https://raw.githubusercontent.com/juancolonna/Sauim/main/ocsvm_filtered.joblib [following]\n",
            "--2025-08-30 06:28:22--  https://raw.githubusercontent.com/juancolonna/Sauim/main/ocsvm_filtered.joblib\n",
            "Resolving raw.githubusercontent.com (raw.githubusercontent.com)... 185.199.108.133, 185.199.109.133, 185.199.110.133, ...\n",
            "Connecting to raw.githubusercontent.com (raw.githubusercontent.com)|185.199.108.133|:443... connected.\n",
            "HTTP request sent, awaiting response... 200 OK\n",
            "Length: 73215 (71K) [application/octet-stream]\n",
            "Saving to: ‘ocsvm_filtered.joblib’\n",
            "\n",
            "ocsvm_filtered.jobl 100%[===================>]  71.50K  --.-KB/s    in 0.01s   \n",
            "\n",
            "2025-08-30 06:28:22 (5.41 MB/s) - ‘ocsvm_filtered.joblib’ saved [73215/73215]\n",
            "\n"
          ]
        }
      ]
    },
    {
      "cell_type": "code",
      "source": [
        "# Open and extract files\n",
        "with zipfile.ZipFile('MinduPark.zip', 'r') as zip_ref:\n",
        "    zip_ref.extractall('.')\n",
        "\n",
        "with zipfile.ZipFile('MinduPark_without_sauim.zip', 'r') as zip_ref:\n",
        "    zip_ref.extractall('.')\n",
        "\n",
        "print(f'Files extracted')"
      ],
      "metadata": {
        "colab": {
          "base_uri": "https://localhost:8080/"
        },
        "id": "MNKAXX6TPe7p",
        "outputId": "28634a58-271e-48d5-a30d-dcea7e0647fb"
      },
      "execution_count": 5,
      "outputs": [
        {
          "output_type": "stream",
          "name": "stdout",
          "text": [
            "Files extracted\n"
          ]
        }
      ]
    },
    {
      "cell_type": "code",
      "source": [
        "clf = load(\"ocsvm_filtered.joblib\")"
      ],
      "metadata": {
        "id": "KMW550l9s_tW"
      },
      "execution_count": 6,
      "outputs": []
    },
    {
      "cell_type": "code",
      "source": [
        "cm = np.array([[179,0],[4,32]])\n",
        "\n",
        "# Fixed parameters\n",
        "p10 = cm[0,1]/cm.sum(axis=1)[0]  # prob. of \"false detection\"\n",
        "p11 = cm[1,1]/cm.sum(axis=1)[1]  # prob. of \"detection\"\n",
        "p01 = 1-p11\n",
        "p00 = 1-p10\n",
        "\n",
        "eps = 1e-10\n",
        "\n",
        "print(f\"p11:{p11}, p10:{p10}, p01:{p01}, p00:{p00}\")"
      ],
      "metadata": {
        "id": "XOBh6J1K4e49",
        "colab": {
          "base_uri": "https://localhost:8080/"
        },
        "outputId": "52f54d31-c9f9-406d-89aa-4341a8e99fa8"
      },
      "execution_count": 7,
      "outputs": [
        {
          "output_type": "stream",
          "name": "stdout",
          "text": [
            "p11:0.8888888888888888, p10:0.0, p01:0.11111111111111116, p00:1.0\n"
          ]
        }
      ]
    },
    {
      "cell_type": "markdown",
      "source": [
        "Semples monitoring with Sauim occurrences"
      ],
      "metadata": {
        "id": "h4vXcVURPsKp"
      }
    },
    {
      "cell_type": "code",
      "source": [
        "y = []\n",
        "T = []\n",
        "detections_per_record = []\n",
        "\n",
        "for i in range(8):\n",
        "    MinduPark_embedding_vectors = np.load(\"MinduPark/MinduPark_vectors_filtered_\"+str(i)+\".npy\")\n",
        "    decision_scores = clf.decision_function(MinduPark_embedding_vectors)\n",
        "    MinduPark_preds = np.where(decision_scores >= 0, 1, 0)\n",
        "    y.append(np.sum(MinduPark_preds == 1))\n",
        "    T.append(len(MinduPark_preds))\n",
        "    detections_per_record.append(MinduPark_preds)\n",
        "\n",
        "y = np.array(y)\n",
        "T = np.array(T)\n",
        "print(y) # How many detections per record\n",
        "print(T) # How many segments per record"
      ],
      "metadata": {
        "colab": {
          "base_uri": "https://localhost:8080/"
        },
        "id": "p-mC1xbBevrE",
        "outputId": "926d7cae-a794-4679-b0e0-bfd239fd4582"
      },
      "execution_count": 20,
      "outputs": [
        {
          "output_type": "stream",
          "name": "stdout",
          "text": [
            "[ 51   0   0  10 261  55  54 112]\n",
            "[ 757  149  109  309 1036  360  419 1320]\n"
          ]
        }
      ]
    },
    {
      "cell_type": "code",
      "source": [
        "detections = int(np.sum(y > 0))\n",
        "detections"
      ],
      "metadata": {
        "colab": {
          "base_uri": "https://localhost:8080/"
        },
        "id": "XTEhfjzKScqx",
        "outputId": "9dc87728-39f8-42ef-92ae-d3e8df8b637e"
      },
      "execution_count": 21,
      "outputs": [
        {
          "output_type": "execute_result",
          "data": {
            "text/plain": [
              "6"
            ]
          },
          "metadata": {},
          "execution_count": 21
        }
      ]
    },
    {
      "cell_type": "code",
      "source": [
        "from scipy.stats import norm\n",
        "\n",
        "K = len(y)\n",
        "mle_w = []\n",
        "logLike = []\n",
        "w_lo = []   # SE-based lower band for w\n",
        "w_hi = []   # SE-based upper band for w\n",
        "\n",
        "eps = 1e-12\n",
        "\n",
        "for k in range(len(y)+1):\n",
        "    def loglike(w):\n",
        "        if w <= 0 or w >= 1:\n",
        "            return -np.inf\n",
        "        q = np.clip(w * p11, eps, 1 - eps)\n",
        "        return k*np.log(q) + (K - k)*np.log(1 - q)\n",
        "\n",
        "    res = minimize_scalar(lambda w: -loglike(w), bounds=(0,1), method=\"bounded\")\n",
        "    w_hat_k = res.x\n",
        "    mle_w.append(w_hat_k)\n",
        "    logLike.append(-res.fun)\n",
        "\n",
        "    # ---- use SE_wald directly ----\n",
        "    stats_k = w_mle_variance_ci(k, K, p11)\n",
        "    se_k = stats_k[\"se_wald\"]\n",
        "\n",
        "    lo = np.clip(w_hat_k - se_k, 0.0, 1.0)\n",
        "    hi = np.clip(w_hat_k + se_k, 0.0, 1.0)\n",
        "\n",
        "    w_lo.append(lo)\n",
        "    w_hi.append(hi)\n",
        "\n",
        "detections = int(np.sum(y > 0))\n",
        "\n",
        "# --- plotting (unchanged except labels) ---\n",
        "fig, ax1 = plt.subplots()\n",
        "x = np.arange(len(mle_w))\n",
        "\n",
        "l1, = ax1.plot(x, mle_w, label=\"$\\\\psi$ (MLE)\")\n",
        "ax1.set_ylabel(\"$\\\\psi$ (MLE)\", color=\"blue\")\n",
        "ax1.set_ylim(-0.01, 1.01)\n",
        "\n",
        "band = ax1.fill_between(x, w_lo, w_hi, alpha=0.2, color=l1.get_color())\n",
        "ci_patch = Patch(facecolor=l1.get_color(), alpha=0.2, label=f\"±SE\")\n",
        "\n",
        "y_hat_at_det = mle_w[detections]\n",
        "lo_at_det = w_lo[detections]\n",
        "hi_at_det = w_hi[detections]\n",
        "yerr_det = np.array([[y_hat_at_det - lo_at_det], [hi_at_det - y_hat_at_det]])\n",
        "eb = ax1.errorbar([detections], [y_hat_at_det], yerr=yerr_det, fmt='o', color='black',\n",
        "                  capsize=3, label=\"detections\")\n",
        "\n",
        "ax2 = ax1.twinx()\n",
        "l2, = ax2.plot(x, logLike, label=\"log-like\", color=\"red\", linestyle=\"--\")\n",
        "ax2.set_ylabel(\"log-likelihood\", color=\"red\")\n",
        "\n",
        "ax1.set_xlabel(\"Number of detections\")\n",
        "lines = [l1, ci_patch, l2, eb]\n",
        "labels = [ln.get_label() for ln in lines]\n",
        "ax1.legend(lines, labels, loc=\"lower right\")\n",
        "\n",
        "fig.tight_layout()\n",
        "ax1.grid(True, axis='y', which='both')\n",
        "ax2.grid(False)\n",
        "ax2.patch.set_visible(False)\n",
        "ax1.set_axisbelow(True)\n",
        "\n",
        "plt.savefig(\"likelihood.pdf\", format='pdf', dpi=300, bbox_inches='tight')\n",
        "plt.show()\n"
      ],
      "metadata": {
        "id": "Am1gmDKvdItq",
        "colab": {
          "base_uri": "https://localhost:8080/",
          "height": 486
        },
        "outputId": "79d69c73-eb4a-42d5-9392-ab486dade323"
      },
      "execution_count": 22,
      "outputs": [
        {
          "output_type": "display_data",
          "data": {
            "text/plain": [
              "<Figure size 640x480 with 2 Axes>"
            ],
            "image/png": "[encoded data removed]"
          },
          "metadata": {}
        }
      ]
    },
    {
      "cell_type": "code",
      "source": [
        "# Dados agregados:\n",
        "k = int(np.sum(y > 0))   # nº de sítios com ≥1 detecção\n",
        "K = int(len(y))          # nº total de sítios\n",
        "eps = 1e-12              # p/ evitar log(0)\n",
        "\n",
        "def loglike(w):\n",
        "    if w <= 0 or w >= 1:\n",
        "        return -np.inf  # fora do domínio\n",
        "    q = w * p11\n",
        "    q = np.clip(q, eps, 1 - eps)\n",
        "    return k*np.log(q) + (K - k)*np.log(1 - q)\n",
        "\n",
        "# Minimiza o negativo do log-likelihood\n",
        "res = minimize_scalar(lambda w: -loglike(w), bounds=(eps, 1 - eps), method=\"bounded\")\n",
        "\n",
        "print(\"MLE estimate of w:\", res.x)\n",
        "print(\"Max log-likelihood:\", -res.fun)\n"
      ],
      "metadata": {
        "colab": {
          "base_uri": "https://localhost:8080/"
        },
        "id": "PjzekrBj6CG-",
        "outputId": "f8a96db9-3e14-401f-8aee-2cc274aae728"
      },
      "execution_count": 12,
      "outputs": [
        {
          "output_type": "stream",
          "name": "stdout",
          "text": [
            "MLE estimate of w: 0.8437509741811843\n",
            "Max log-likelihood: -4.498681156966463\n"
          ]
        }
      ]
    },
    {
      "cell_type": "code",
      "source": [
        "# --- Exemplo de uso ---\n",
        "# Suponha que você já tenha:\n",
        "k = int(np.sum(y > 0))\n",
        "K = int(len(y))\n",
        "\n",
        "res = w_mle_variance_ci(k, K, p11)\n",
        "print(\"ŵ:\", res[\"w_hat\"])\n",
        "print(\"Var (Wald):\", res[\"var_wald\"])\n",
        "print(\"SE (Wald):\", res[\"se_wald\"])"
      ],
      "metadata": {
        "colab": {
          "base_uri": "https://localhost:8080/"
        },
        "id": "-ox1TQ2u7OPk",
        "outputId": "70be2d45-3bda-46df-f13f-15afaa5ff304"
      },
      "execution_count": 14,
      "outputs": [
        {
          "output_type": "stream",
          "name": "stdout",
          "text": [
            "ŵ: 0.84375\n",
            "Var (Wald): 0.0296630859375\n",
            "SE (Wald): 0.1722297475394422\n"
          ]
        }
      ]
    },
    {
      "cell_type": "markdown",
      "source": [
        "Samples of monitoring without sauim occurrences"
      ],
      "metadata": {
        "id": "pmzHC8CgP2Wc"
      }
    },
    {
      "cell_type": "code",
      "source": [
        "y = []\n",
        "T = []\n",
        "detections_per_record = []\n",
        "\n",
        "for i in range(8):\n",
        "    MinduPark_embedding_vectors = np.load(\"MinduPark_without_sauim/MinduPark_vectors_filtered_\"+str(i)+\".npy\")\n",
        "    decision_scores = clf.decision_function(MinduPark_embedding_vectors)\n",
        "    MinduPark_preds = np.where(decision_scores >= 0, 1, 0)\n",
        "    y.append(np.sum(MinduPark_preds == 1))\n",
        "    T.append(len(MinduPark_preds))\n",
        "    detections_per_record.append(MinduPark_preds)\n",
        "\n",
        "y = np.array(y)\n",
        "T = np.array(T)\n",
        "print(y) # How many detections per record\n",
        "print(T) # How many segments per record"
      ],
      "metadata": {
        "id": "nLILAJHtP55m",
        "colab": {
          "base_uri": "https://localhost:8080/"
        },
        "outputId": "d1a2838a-089f-4cdc-c9dc-a8bd342d28f7"
      },
      "execution_count": 15,
      "outputs": [
        {
          "output_type": "stream",
          "name": "stdout",
          "text": [
            "[0 0 0 0 0 2 0 0]\n",
            "[ 294  660  600  107  272 1134  142  247]\n"
          ]
        }
      ]
    },
    {
      "cell_type": "code",
      "source": [
        "# --- Exemplo de uso ---\n",
        "# Suponha que você já tenha:\n",
        "k = int(np.sum(y > 0))\n",
        "K = int(len(y))\n",
        "\n",
        "res = w_mle_variance_ci(k, K, p11)\n",
        "print(\"ŵ:\", res[\"w_hat\"])\n",
        "print(\"Var (Wald):\", res[\"var_wald\"])\n",
        "print(\"SE (Wald):\", res[\"se_wald\"])"
      ],
      "metadata": {
        "id": "9-w5TTy1QMT9",
        "colab": {
          "base_uri": "https://localhost:8080/"
        },
        "outputId": "54436245-857f-4bc0-84d5-72ecdbbd6177"
      },
      "execution_count": 16,
      "outputs": [
        {
          "output_type": "stream",
          "name": "stdout",
          "text": [
            "ŵ: 0.140625\n",
            "Var (Wald): 0.017303466796875\n",
            "SE (Wald): 0.13154264250377137\n"
          ]
        }
      ]
    }
  ],
  "metadata": {
    "colab": {
      "provenance": []
    },
    "kernelspec": {
      "display_name": "Python 3",
      "name": "python3"
    },
    "language_info": {
      "name": "python"
    }
  },
  "nbformat": 4,
  "nbformat_minor": 0
}