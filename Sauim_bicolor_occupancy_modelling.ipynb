{
  "cells": [
    {
      "cell_type": "markdown",
      "source": [
        "2012- Robert M Dorazio & J. Andrew Royle. Estimating Size and Composition of Biological Communities by Modeling the occurrence of Species.\n",
        "https://doi.org/10.1198/016214505000000015\n",
        "\n",
        "Zero-inflated model\n",
        "\n",
        "MacKenzie et al. 2006\n",
        "\n",
        "MacKenzie et al. 2002"
      ],
      "metadata": {
        "id": "-NMT6ojjDNlD"
      }
    },
    {
      "cell_type": "code",
      "source": [
        "import shutil\n",
        "import os\n",
        "import zipfile\n",
        "from joblib import dump, load\n",
        "import numpy as np\n",
        "from matplotlib import pyplot as plt\n",
        "from matplotlib.patches import Patch  # for legend patch\n",
        "from scipy.optimize import minimize_scalar\n",
        "from scipy.stats import norm, beta"
      ],
      "metadata": {
        "id": "eJDdUdOO8B_r"
      },
      "execution_count": 1,
      "outputs": []
    },
    {
      "cell_type": "code",
      "source": [
        "# Remove the directory and all its contents\n",
        "if os.path.exists('MinduPark'):\n",
        "    shutil.rmtree('MinduPark')\n",
        "    print(\"Folder 'MinduPark' removed.\")\n",
        "if os.path.exists('MinduPark_without_sauim'):\n",
        "    shutil.rmtree('MinduPark_without_sauim')\n",
        "    print(\"Folder 'MinduPark_without_sauim' removed.\")"
      ],
      "metadata": {
        "id": "vmzplud6tGG9"
      },
      "execution_count": 2,
      "outputs": []
    },
    {
      "cell_type": "markdown",
      "source": [
        "Auxiliar funtions"
      ],
      "metadata": {
        "id": "TCed0ltCQCHs"
      }
    },
    {
      "cell_type": "code",
      "source": [
        "def w_mle_variance_ci(k, K, p11, alpha=0.05, eps=1e-12):\n",
        "    \"\"\"\n",
        "    Estima w_hat, Var(w_hat), SE(w_hat) e ICs (Wald e Clopper-Pearson)\n",
        "    no modelo q = w * p11, k ~ Bin(K, q).\n",
        "\n",
        "    Parâmetros:\n",
        "      k    : nº de sítios com ≥1 detecção\n",
        "      K    : nº total de sítios\n",
        "      p11  : prob. de detecção quando ocupado (fixa/conhecida)\n",
        "      alpha: nível do IC (padrão 0.05 → 95%)\n",
        "      eps  : evita divisão por zero e log(0) se você quiser recortar\n",
        "\n",
        "    Retorna:\n",
        "      dict com w_hat, var_wald, se_wald, ci_wald, ci_clopper_pearson\n",
        "    \"\"\"\n",
        "    if not (0 <= k <= K):\n",
        "        raise ValueError(\"Exige 0 <= k <= K.\")\n",
        "    if not (0 < p11 <= 1):\n",
        "        raise ValueError(\"Exige 0 < p11 <= 1.\")\n",
        "\n",
        "    # MLE fechada\n",
        "    q_hat = k / K\n",
        "    w_hat = np.clip(q_hat / p11, 0.0, 1.0)\n",
        "\n",
        "    # Variância (delta-método) e SE\n",
        "    var_wald = (q_hat * (1 - q_hat)) / (K * (p11 ** 2))\n",
        "    se_wald = float(np.sqrt(max(var_wald, 0.0)))\n",
        "\n",
        "    # IC de Wald\n",
        "    z = norm.ppf(1 - alpha / 2)\n",
        "    ci_wald = (\n",
        "        float(np.clip(w_hat - z * se_wald, 0.0, 1.0)),\n",
        "        float(np.clip(w_hat + z * se_wald, 0.0, 1.0)),\n",
        "    )\n",
        "\n",
        "    # IC exato de Clopper–Pearson para q, depois transformar para w\n",
        "    if k == 0:\n",
        "        q_lo = 0.0\n",
        "    else:\n",
        "        q_lo = beta.ppf(alpha / 2, k, K - k + 1)\n",
        "\n",
        "    if k == K:\n",
        "        q_hi = 1.0\n",
        "    else:\n",
        "        q_hi = beta.ppf(1 - alpha / 2, k + 1, K - k)\n",
        "\n",
        "    ci_cp = (\n",
        "        float(np.clip(q_lo / p11, 0.0, 1.0)),\n",
        "        float(np.clip(q_hi / p11, 0.0, 1.0)),\n",
        "    )\n",
        "\n",
        "    return {\n",
        "        \"w_hat\": float(w_hat),\n",
        "        \"var_wald\": float(var_wald),\n",
        "        \"se_wald\": se_wald,\n",
        "        \"ci_wald\": ci_wald,\n",
        "        \"ci_clopper_pearson\": ci_cp,\n",
        "    }"
      ],
      "metadata": {
        "id": "C8ktzC9lQEcb"
      },
      "execution_count": 3,
      "outputs": []
    },
    {
      "cell_type": "markdown",
      "source": [
        "## Ocumpacy modeling"
      ],
      "metadata": {
        "id": "4n2bF-1Q2RcS"
      }
    },
    {
      "cell_type": "markdown",
      "metadata": {
        "id": "Eldke65Zhynt"
      },
      "source": [
        "Automatically download the necessary files"
      ]
    },
    {
      "cell_type": "code",
      "source": [
        "!wget https://github.com/juancolonna/Sauim/raw/main/MinduPark.zip -O MinduPark.zip\n",
        "!wget https://github.com/juancolonna/Sauim/raw/main/MinduPark_without_sauim.zip -O MinduPark_without_sauim.zip\n",
        "!wget https://github.com/juancolonna/Sauim/raw/main/ocsvm.joblib -O ocsvm.joblib"
      ],
      "metadata": {
        "colab": {
          "base_uri": "https://localhost:8080/"
        },
        "id": "uohHR9HvB1YX",
        "outputId": "e28bfd62-9b2b-42a2-cbd1-5380490d28c6"
      },
      "execution_count": 4,
      "outputs": [
        {
          "output_type": "stream",
          "name": "stdout",
          "text": [
            "--2025-08-29 01:38:45--  https://github.com/juancolonna/Sauim/raw/main/MinduPark.zip\n",
            "Resolving github.com (github.com)... 140.82.113.4\n",
            "Connecting to github.com (github.com)|140.82.113.4|:443... connected.\n",
            "HTTP request sent, awaiting response... 302 Found\n",
            "Location: https://media.githubusercontent.com/media/juancolonna/Sauim/main/MinduPark.zip [following]\n",
            "--2025-08-29 01:38:45--  https://media.githubusercontent.com/media/juancolonna/Sauim/main/MinduPark.zip\n",
            "Resolving media.githubusercontent.com (media.githubusercontent.com)... 185.199.108.133, 185.199.109.133, 185.199.110.133, ...\n",
            "Connecting to media.githubusercontent.com (media.githubusercontent.com)|185.199.108.133|:443... connected.\n",
            "HTTP request sent, awaiting response... 200 OK\n",
            "Length: 42146012 (40M) [application/zip]\n",
            "Saving to: ‘MinduPark.zip’\n",
            "\n",
            "MinduPark.zip       100%[===================>]  40.19M  58.5MB/s    in 0.7s    \n",
            "\n",
            "2025-08-29 01:38:46 (58.5 MB/s) - ‘MinduPark.zip’ saved [42146012/42146012]\n",
            "\n",
            "--2025-08-29 01:38:46--  https://github.com/juancolonna/Sauim/raw/main/MinduPark_without_sauim.zip\n",
            "Resolving github.com (github.com)... 140.82.114.4\n",
            "Connecting to github.com (github.com)|140.82.114.4|:443... connected.\n",
            "HTTP request sent, awaiting response... 302 Found\n",
            "Location: https://media.githubusercontent.com/media/juancolonna/Sauim/main/MinduPark_without_sauim.zip [following]\n",
            "--2025-08-29 01:38:46--  https://media.githubusercontent.com/media/juancolonna/Sauim/main/MinduPark_without_sauim.zip\n",
            "Resolving media.githubusercontent.com (media.githubusercontent.com)... 185.199.108.133, 185.199.109.133, 185.199.110.133, ...\n",
            "Connecting to media.githubusercontent.com (media.githubusercontent.com)|185.199.108.133|:443... connected.\n",
            "HTTP request sent, awaiting response... 200 OK\n",
            "Length: 32659512 (31M) [application/zip]\n",
            "Saving to: ‘MinduPark_without_sauim.zip’\n",
            "\n",
            "MinduPark_without_s 100%[===================>]  31.15M  83.4MB/s    in 0.4s    \n",
            "\n",
            "2025-08-29 01:38:47 (83.4 MB/s) - ‘MinduPark_without_sauim.zip’ saved [32659512/32659512]\n",
            "\n",
            "--2025-08-29 01:38:47--  https://github.com/juancolonna/Sauim/raw/main/ocsvm.joblib\n",
            "Resolving github.com (github.com)... 140.82.114.3\n",
            "Connecting to github.com (github.com)|140.82.114.3|:443... connected.\n",
            "HTTP request sent, awaiting response... 302 Found\n",
            "Location: https://raw.githubusercontent.com/juancolonna/Sauim/main/ocsvm.joblib [following]\n",
            "--2025-08-29 01:38:47--  https://raw.githubusercontent.com/juancolonna/Sauim/main/ocsvm.joblib\n",
            "Resolving raw.githubusercontent.com (raw.githubusercontent.com)... 185.199.108.133, 185.199.109.133, 185.199.110.133, ...\n",
            "Connecting to raw.githubusercontent.com (raw.githubusercontent.com)|185.199.108.133|:443... connected.\n",
            "HTTP request sent, awaiting response... 200 OK\n",
            "Length: 73215 (71K) [application/octet-stream]\n",
            "Saving to: ‘ocsvm.joblib’\n",
            "\n",
            "ocsvm.joblib        100%[===================>]  71.50K  --.-KB/s    in 0.002s  \n",
            "\n",
            "2025-08-29 01:38:47 (31.9 MB/s) - ‘ocsvm.joblib’ saved [73215/73215]\n",
            "\n"
          ]
        }
      ]
    },
    {
      "cell_type": "code",
      "source": [
        "# Open and extract files\n",
        "with zipfile.ZipFile('MinduPark.zip', 'r') as zip_ref:\n",
        "    zip_ref.extractall('.')\n",
        "\n",
        "with zipfile.ZipFile('MinduPark_without_sauim.zip', 'r') as zip_ref:\n",
        "    zip_ref.extractall('.')\n",
        "\n",
        "print(f'Files extracted')"
      ],
      "metadata": {
        "colab": {
          "base_uri": "https://localhost:8080/"
        },
        "id": "MNKAXX6TPe7p",
        "outputId": "dfec2cee-ece7-4074-e2f9-6f40bbeee99e"
      },
      "execution_count": 5,
      "outputs": [
        {
          "output_type": "stream",
          "name": "stdout",
          "text": [
            "Files extracted\n"
          ]
        }
      ]
    },
    {
      "cell_type": "code",
      "source": [
        "clf = load(\"ocsvm.joblib\")"
      ],
      "metadata": {
        "id": "KMW550l9s_tW"
      },
      "execution_count": 6,
      "outputs": []
    },
    {
      "cell_type": "code",
      "source": [
        "cm = np.array([[179,0],[4,32]])\n",
        "\n",
        "# Fixed parameters\n",
        "p10 = cm[0,1]/cm.sum(axis=1)[0]  # prob. of \"false detection\"\n",
        "p11 = cm[1,1]/cm.sum(axis=1)[1]  # prob. of \"detection\"\n",
        "p01 = 1-p11\n",
        "p00 = 1-p10\n",
        "\n",
        "eps = 1e-10\n",
        "\n",
        "print(f\"p11:{p11}, p10:{p10}, p01:{p01}, p00:{p00}\")"
      ],
      "metadata": {
        "id": "XOBh6J1K4e49",
        "colab": {
          "base_uri": "https://localhost:8080/"
        },
        "outputId": "347b8480-b414-4d68-e5e6-955f26ff4e1b"
      },
      "execution_count": 7,
      "outputs": [
        {
          "output_type": "stream",
          "name": "stdout",
          "text": [
            "p11:0.8888888888888888, p10:0.0, p01:0.11111111111111116, p00:1.0\n"
          ]
        }
      ]
    },
    {
      "cell_type": "markdown",
      "source": [
        "Semples monitoring with Sauim occurrences"
      ],
      "metadata": {
        "id": "h4vXcVURPsKp"
      }
    },
    {
      "cell_type": "code",
      "source": [
        "y = []\n",
        "T = []\n",
        "detections_per_record = []\n",
        "\n",
        "for i in range(8):\n",
        "    MinduPark_embedding_vectors = np.load(\"MinduPark/MinduPark_vectors_filtered_\"+str(i)+\".npy\")\n",
        "    decision_scores = clf.decision_function(MinduPark_embedding_vectors)\n",
        "    MinduPark_preds = np.where(decision_scores >= 0, 1, 0)\n",
        "    y.append(np.sum(MinduPark_preds == 1))\n",
        "    T.append(len(MinduPark_preds))\n",
        "    detections_per_record.append(MinduPark_preds)\n",
        "\n",
        "y = np.array(y)\n",
        "T = np.array(T)\n",
        "print(y) # How many detections per record\n",
        "print(T) # How many segments per record"
      ],
      "metadata": {
        "colab": {
          "base_uri": "https://localhost:8080/"
        },
        "id": "p-mC1xbBevrE",
        "outputId": "30c635c0-fbd4-4e41-eaff-9e558c2303c0"
      },
      "execution_count": 8,
      "outputs": [
        {
          "output_type": "stream",
          "name": "stdout",
          "text": [
            "[ 51   0   0  10 261  55  54 112]\n",
            "[ 757  149  109  309 1036  360  419 1320]\n"
          ]
        }
      ]
    },
    {
      "cell_type": "code",
      "source": [
        "detections = int(np.sum(y > 0))\n",
        "detections"
      ],
      "metadata": {
        "colab": {
          "base_uri": "https://localhost:8080/"
        },
        "id": "XTEhfjzKScqx",
        "outputId": "a5478591-d0df-452e-a86a-6a5f79d2d600"
      },
      "execution_count": 9,
      "outputs": [
        {
          "output_type": "execute_result",
          "data": {
            "text/plain": [
              "6"
            ]
          },
          "metadata": {},
          "execution_count": 9
        }
      ]
    },
    {
      "cell_type": "code",
      "source": [
        "K = len(y)\n",
        "mle_w = []\n",
        "logLike = []\n",
        "w_lo = []   # CP lower bounds for w\n",
        "w_hi = []   # CP upper bounds for w\n",
        "\n",
        "for k in range(len(y)+1):\n",
        "    def loglike(w):\n",
        "        if w <= 0 or w >= 1:\n",
        "            return -np.inf  # fora do domínio\n",
        "        q = w * p11\n",
        "        q = np.clip(q, eps, 1 - eps)\n",
        "        return k*np.log(q) + (K - k)*np.log(1 - q)\n",
        "\n",
        "\n",
        "    res = minimize_scalar(lambda w: -loglike(w), bounds=(0,1), method=\"bounded\")\n",
        "    mle_w.append(res.x)\n",
        "    logLike.append(-res.fun)\n",
        "\n",
        "    # Clopper–Pearson for this k, transform to w via divide by p11 (inside helper)\n",
        "    ci_res = w_mle_variance_ci(k, K, p11, alpha=0.05)\n",
        "    lo, hi = ci_res[\"ci_clopper_pearson\"]\n",
        "    w_lo.append(lo)\n",
        "    w_hi.append(hi)\n",
        "\n",
        "detections = int(np.sum(y > 0))\n",
        "\n",
        "# --- plotting ---\n",
        "fig, ax1 = plt.subplots()\n",
        "\n",
        "x = np.arange(len(mle_w))  # x = 0..K\n",
        "\n",
        "# left y-axis: w\n",
        "l1, = ax1.plot(x, mle_w, label=\"$\\\\psi$ (MLE)\")  # psi = occupancy prob = w\n",
        "ax1.set_ylabel(\"$\\\\psi$ (MLE)\", color=\"blue\")\n",
        "ax1.set_ylim(-0.01, 1.01)\n",
        "\n",
        "# shaded CP band\n",
        "band = ax1.fill_between(x, w_lo, w_hi, alpha=0.2, color=l1.get_color())\n",
        "ci_patch = Patch(facecolor=l1.get_color(), alpha=0.2, label=\"95% CI\")\n",
        "\n",
        "# mark the actual detections with error bar\n",
        "y_hat_at_det = mle_w[detections]\n",
        "lo_at_det = w_lo[detections]\n",
        "hi_at_det = w_hi[detections]\n",
        "yerr_det = np.array([[y_hat_at_det - lo_at_det], [hi_at_det - y_hat_at_det]])\n",
        "eb = ax1.errorbar([detections], [y_hat_at_det], yerr=yerr_det, fmt='o', color='black',\n",
        "                  capsize=3, label=\"CI @ detections\")\n",
        "\n",
        "# right y-axis: log-likelihood\n",
        "ax2 = ax1.twinx()\n",
        "l2, = ax2.plot(x, logLike, label=\"log-like\", color=\"red\", linestyle=\"--\")\n",
        "ax2.set_ylabel(\"log-likelihood\", color=\"red\")\n",
        "\n",
        "ax1.set_xlabel(\"Number of detections\")\n",
        "# ax1.set_title(\"MLE $\\\\psi$ vs. log-likelihood with 95% CI\")\n",
        "\n",
        "# combined legend\n",
        "lines = [l1, ci_patch, l2, eb]\n",
        "labels = [ln.get_label() for ln in lines]\n",
        "ax1.legend(lines, labels, loc=\"lower right\")\n",
        "\n",
        "fig.tight_layout()\n",
        "\n",
        "ax1.grid(True, axis='y', which='both')\n",
        "ax2.grid(False)\n",
        "ax2.patch.set_visible(False)\n",
        "ax1.set_axisbelow(True)\n",
        "\n",
        "plt.savefig(\"likelihood.pdf\", format='pdf', dpi=300, bbox_inches='tight')\n",
        "plt.show()"
      ],
      "metadata": {
        "id": "Am1gmDKvdItq",
        "colab": {
          "base_uri": "https://localhost:8080/",
          "height": 486
        },
        "outputId": "c0ce888b-42c3-4c74-b867-9beff9729c83"
      },
      "execution_count": 15,
      "outputs": [
        {
          "output_type": "display_data",
          "data": {
            "text/plain": [
              "<Figure size 640x480 with 2 Axes>"
            ],
            "image/png": "[encoded data removed]"
          },
          "metadata": {}
        }
      ]
    },
    {
      "cell_type": "code",
      "source": [
        "# Dados agregados:\n",
        "k = int(np.sum(y > 0))   # nº de sítios com ≥1 detecção\n",
        "K = int(len(y))          # nº total de sítios\n",
        "eps = 1e-12              # p/ evitar log(0)\n",
        "\n",
        "def loglike(w):\n",
        "    if w <= 0 or w >= 1:\n",
        "        return -np.inf  # fora do domínio\n",
        "    q = w * p11\n",
        "    q = np.clip(q, eps, 1 - eps)\n",
        "    return k*np.log(q) + (K - k)*np.log(1 - q)\n",
        "\n",
        "# Minimiza o negativo do log-likelihood\n",
        "res = minimize_scalar(lambda w: -loglike(w), bounds=(eps, 1 - eps), method=\"bounded\")\n",
        "\n",
        "print(\"MLE estimate of w:\", res.x)\n",
        "print(\"Max log-likelihood:\", -res.fun)\n"
      ],
      "metadata": {
        "colab": {
          "base_uri": "https://localhost:8080/"
        },
        "id": "PjzekrBj6CG-",
        "outputId": "71466b8f-db5a-4681-fe49-d30cbdd963c1"
      },
      "execution_count": 12,
      "outputs": [
        {
          "output_type": "stream",
          "name": "stdout",
          "text": [
            "MLE estimate of w: 0.8437509741811843\n",
            "Max log-likelihood: -4.498681156966463\n"
          ]
        }
      ]
    },
    {
      "cell_type": "code",
      "source": [
        "# --- Exemplo de uso ---\n",
        "# Suponha que você já tenha:\n",
        "k = int(np.sum(y > 0))\n",
        "K = int(len(y))\n",
        "\n",
        "res = w_mle_variance_ci(k, K, p11, alpha=0.05)\n",
        "print(\"ŵ:\", res[\"w_hat\"])\n",
        "print(\"Var (Wald):\", res[\"var_wald\"])\n",
        "print(\"SE (Wald):\", res[\"se_wald\"])\n",
        "print(\"IC 95% (Wald):\", res[\"ci_wald\"])\n",
        "print(\"IC 95% (Clopper–Pearson):\", res[\"ci_clopper_pearson\"])\n"
      ],
      "metadata": {
        "colab": {
          "base_uri": "https://localhost:8080/"
        },
        "id": "-ox1TQ2u7OPk",
        "outputId": "0994f8ec-6ffd-46cc-fe83-9f993810edd9"
      },
      "execution_count": 13,
      "outputs": [
        {
          "output_type": "stream",
          "name": "stdout",
          "text": [
            "ŵ: 0.84375\n",
            "Var (Wald): 0.0296630859375\n",
            "SE (Wald): 0.1722297475394422\n",
            "IC 95% (Wald): (0.5061858977562672, 1.0)\n",
            "IC 95% (Clopper–Pearson): (0.3927872312855728, 1.0)\n"
          ]
        }
      ]
    },
    {
      "cell_type": "markdown",
      "source": [
        "Samples of monitoring without sauim occurrences"
      ],
      "metadata": {
        "id": "pmzHC8CgP2Wc"
      }
    },
    {
      "cell_type": "code",
      "source": [
        "y = []\n",
        "T = []\n",
        "detections_per_record = []\n",
        "\n",
        "for i in range(8):\n",
        "    MinduPark_embedding_vectors = np.load(\"MinduPark_without_sauim/MinduPark_vectors_filtered_\"+str(i)+\".npy\")\n",
        "    decision_scores = clf.decision_function(MinduPark_embedding_vectors)\n",
        "    MinduPark_preds = np.where(decision_scores >= 0, 1, 0)\n",
        "    y.append(np.sum(MinduPark_preds == 1))\n",
        "    T.append(len(MinduPark_preds))\n",
        "    detections_per_record.append(MinduPark_preds)\n",
        "\n",
        "y = np.array(y)\n",
        "T = np.array(T)\n",
        "print(y) # How many detections per record\n",
        "print(T) # How many segments per record"
      ],
      "metadata": {
        "id": "nLILAJHtP55m"
      },
      "execution_count": null,
      "outputs": []
    },
    {
      "cell_type": "code",
      "source": [
        "# --- Exemplo de uso ---\n",
        "# Suponha que você já tenha:\n",
        "k = int(np.sum(y > 0))\n",
        "K = int(len(y))\n",
        "\n",
        "res = w_mle_variance_ci(k, K, p11, alpha=0.05)\n",
        "print(\"ŵ:\", res[\"w_hat\"])\n",
        "print(\"Var (Wald):\", res[\"var_wald\"])\n",
        "print(\"SE (Wald):\", res[\"se_wald\"])\n",
        "print(\"IC 95% (Wald):\", res[\"ci_wald\"])\n",
        "print(\"IC 95% (Clopper–Pearson):\", res[\"ci_clopper_pearson\"])"
      ],
      "metadata": {
        "id": "9-w5TTy1QMT9"
      },
      "execution_count": null,
      "outputs": []
    },
    {
      "cell_type": "markdown",
      "source": [
        "Exemplo com mais de um sitio"
      ],
      "metadata": {
        "id": "Vxeq3NCcO_OM"
      }
    },
    {
      "cell_type": "code",
      "source": [
        "# # Supõe-se que você já tem:\n",
        "# # y: lista/array com contagens por sítio\n",
        "# # T: lista/array com nº de visitas por sítio\n",
        "# # p11: prob. de detecção por visita (fixa)\n",
        "# eps = 1e-12\n",
        "\n",
        "# # Suas quantidades:\n",
        "# k = int(np.sum(y > 0))                 # nº de sítios com ≥1 detecção\n",
        "# K = int(len(y))                        # nº total de sítios\n",
        "# d = (np.asarray(y) > 0).astype(int)    # indicador por sítio (0/1)\n",
        "# T = np.asarray(T, int)                 # nº de visitas por sítio (mesmo tamanho de y)\n",
        "\n",
        "# # Probabilidade de ≥1 detecção dado ocupado, por sítio\n",
        "# pstar = 1.0 - np.power(1.0 - p11, T)\n",
        "\n",
        "# def loglike(w):\n",
        "#     if w <= 0 or w >= 1:\n",
        "#         return -np.inf  # fora do domínio\n",
        "#     # q_i = w * pstar_i\n",
        "#     q = np.clip(w * pstar, eps, 1.0 - eps)\n",
        "#     return float(np.sum(d * np.log(q) + (1 - d) * np.log(1.0 - q)))\n",
        "\n",
        "# # Minimiza o negativo do log-likelihood\n",
        "# res = minimize_scalar(lambda w: -loglike(w),\n",
        "#                       bounds=(eps, 1.0 - eps),\n",
        "#                       method=\"bounded\")\n",
        "\n",
        "# print(\"MLE estimate of w:\", res.x)\n",
        "# print(\"Max log-likelihood:\", -res.fun)\n"
      ],
      "metadata": {
        "id": "BBI4fKgdI_9U"
      },
      "execution_count": null,
      "outputs": []
    },
    {
      "cell_type": "code",
      "source": [
        "# from scipy.optimize import minimize_scalar\n",
        "\n",
        "# k = np.sum(y>0)\n",
        "# K = len(y)\n",
        "\n",
        "# def loglike(w):\n",
        "#     if w <= 0 or w >= 1:\n",
        "#         return -np.inf  # outside domain\n",
        "#     a = np.exp(k*np.log(p11) + (K-k)*np.log(1 - p11))\n",
        "#     b = np.exp(k*np.log(p10) + (K-k)*np.log(1 - p10))\n",
        "#     terms = w*a + (1-w)*b\n",
        "#     terms = np.clip(terms, eps, 1-eps)\n",
        "#     return np.sum(np.log(terms))\n",
        "\n",
        "# # We minimize the negative log-likelihood\n",
        "# res = minimize_scalar(lambda w: -loglike(w), bounds=(0,1), method=\"bounded\")\n",
        "\n",
        "# print(\"MLE estimate of w:\", res.x)\n",
        "# print(\"Max log-likelihood:\", -res.fun)"
      ],
      "metadata": {
        "id": "_d4oGKcMidGa"
      },
      "execution_count": null,
      "outputs": []
    }
  ],
  "metadata": {
    "colab": {
      "provenance": []
    },
    "kernelspec": {
      "display_name": "Python 3",
      "name": "python3"
    },
    "language_info": {
      "name": "python"
    }
  },
  "nbformat": 4,
  "nbformat_minor": 0
}