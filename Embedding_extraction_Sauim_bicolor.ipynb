{
  "nbformat": 4,
  "nbformat_minor": 0,
  "metadata": {
    "colab": {
      "provenance": [],
      "gpuType": "T4"
    },
    "kernelspec": {
      "name": "python3",
      "display_name": "Python 3"
    },
    "language_info": {
      "name": "python"
    },
    "accelerator": "GPU"
  },
  "cells": [
    {
      "cell_type": "markdown",
      "metadata": {
        "id": "1410e1a9"
      },
      "source": [
        "# Sauim bicolor Vocalization Classifier and Analysis\n",
        "\n",
        "This notebook demonstrates how to use the Perch bird vocalization classifier model from TensorFlow Hub to extract embeddings from audio files of Sauim bicolor primate and perform analysis on the extracted embeddings, such as hierarchical clustering.\n",
        "\n",
        "The notebook covers the following steps:\n",
        "\n",
        "1.  **Setup**: Installing necessary libraries and loading the Perch model.\n",
        "2.  **Data Loading**: Downloading example audio files and a CSV file containing labels.\n",
        "3.  **Feature Extraction**: Defining and using a function to extract embeddings and spectrograms from audio segments.\n",
        "4.  **Spectrogram Visualization**: Plotting spectrograms to visualize the audio data.\n",
        "5.  **Clustering Analysis**: Performing hierarchical clustering on the extracted embeddings and visualizing the results as a dendrogram."
      ]
    },
    {
      "cell_type": "code",
      "source": [
        "%pip install tensorflow_hub -q"
      ],
      "metadata": {
        "id": "5Wn6WnFmiZMd"
      },
      "execution_count": null,
      "outputs": []
    },
    {
      "cell_type": "code",
      "source": [
        "import csv\n",
        "import librosa\n",
        "import gdown\n",
        "import zipfile\n",
        "import shutil\n",
        "import os\n",
        "import soundfile as sf\n",
        "from tqdm.notebook import trange, tqdm\n",
        "from matplotlib import pyplot as plt\n",
        "import numpy as np\n",
        "import pandas as pd\n",
        "from scipy.spatial.distance import pdist, squareform\n",
        "from scipy.cluster.hierarchy import linkage, dendrogram\n",
        "from sklearn.preprocessing import LabelEncoder\n",
        "import tensorflow_hub as hub\n",
        "import tensorflow as tf\n",
        "tf.experimental.numpy.experimental_enable_numpy_behavior()\n",
        "\n",
        "# Load Perch model.\n",
        "model = hub.load('https://www.kaggle.com/models/google/bird-vocalization-classifier/TensorFlow2/bird-vocalization-classifier/8')"
      ],
      "metadata": {
        "id": "RXBASefWBZUK"
      },
      "execution_count": null,
      "outputs": []
    },
    {
      "cell_type": "code",
      "source": [
        "# Remove the directory and all its contents\n",
        "if os.path.exists('Parque do Mindú'):\n",
        "    shutil.rmtree('Parque do Mindú')\n",
        "    print(\"Folder 'Parque do Mindú' removed.\")"
      ],
      "metadata": {
        "id": "AgXzxtgeTZJv"
      },
      "execution_count": null,
      "outputs": []
    },
    {
      "cell_type": "markdown",
      "source": [
        "Automatically download the necessary files"
      ],
      "metadata": {
        "id": "Eldke65Zhynt"
      }
    },
    {
      "cell_type": "code",
      "source": [
        "!wget https://github.com/juancolonna/Sauim/raw/main/records/records.csv -O records.csv\n",
        "!wget https://github.com/juancolonna/Sauim/raw/main/records/Sauim.wav -O Sauim.wav\n",
        "!wget https://github.com/juancolonna/Sauim/raw/main/records/Anurans.wav -O Anurans.wav\n",
        "!wget https://github.com/juancolonna/Sauim/raw/main/records/Anthrophony.wav -O Anthrophony.wav\n",
        "!wget https://github.com/juancolonna/Sauim/raw/main/records/Background.wav -O Background.wav\n",
        "!wget https://github.com/juancolonna/Sauim/raw/main/records/Birds.wav -O Birds.wav\n",
        "!wget https://github.com/juancolonna/Sauim/raw/main/records/Geophony.wav -O Geophony.wav\n",
        "!wget https://github.com/juancolonna/Sauim/raw/main/records/Mindu_Saguinus%20bicolor_02.02.19-000.wav -O Mindu_Saguinus_bicolor_02.02.19-000.wav\n",
        "!wget https://github.com/juancolonna/Sauim/raw/main/records/Parque_do_Mindú.zip -O Parque_do_Mindú.zip\n",
        "!unzip -q Parque_do_Mindú.zip"
      ],
      "metadata": {
        "id": "77UP_r_ERni-"
      },
      "execution_count": null,
      "outputs": []
    },
    {
      "cell_type": "code",
      "source": [
        "def extract_embeddings(file: str, wlen: int, hop_len: int):\n",
        "    \"\"\"\n",
        "    Extracts embedding vectors and spectrograms from an audio file.\n",
        "\n",
        "    Args:\n",
        "        file (str): Path to the audio file.\n",
        "        wlen (int): Window length in samples.\n",
        "        hop_len (int): Hop length in samples.\n",
        "\n",
        "    Returns:\n",
        "        tuple: (list of embedding vectors, list of spectrogram arrays)\n",
        "\n",
        "    Example:\n",
        "        >>> sr = 32000  # Sampling rate in Hz\n",
        "        >>> window_len = int(5 * sr)  # 5-second window\n",
        "        >>> emb, specs = extract_embeddings('Sauim.wav', wlen=window_len, hop_len=window_len)\n",
        "        >>> np.save('sauim_embedding_vectors.npy', emb)\n",
        "        >>> np.save('sauim_spectrograms.npy', specs)\n",
        "    \"\"\"\n",
        "\n",
        "    y, sr = librosa.load(file, sr=32000)  # Load audio\n",
        "    y = y / np.max(np.abs(y)) # Normalize amplitude\n",
        "\n",
        "    embedding_vectors = []\n",
        "    spectrograms = []\n",
        "\n",
        "    for time in tqdm(range(0, len(y), hop_len)):\n",
        "        if time + wlen < len(y):\n",
        "            segment = y[time:time+wlen]\n",
        "            model_outputs = model.infer_tf(segment[np.newaxis, :])\n",
        "            embedding_vectors.append(model_outputs['embedding'].numpy()[0])\n",
        "            spectrograms.append(model_outputs['frontend'][0].T.numpy())\n",
        "\n",
        "    return embedding_vectors, spectrograms\n",
        "\n",
        "def plot_spectrogram(species: str, spectrograms):\n",
        "    \"\"\"\n",
        "    Plots a Mel spectrogram in dB scale for a given species.\n",
        "\n",
        "    Args:\n",
        "        species (str): Species name.\n",
        "        spectrograms (ndarray): Spectrogram array.\n",
        "        sr (int): Sampling rate in Hz.\n",
        "\n",
        "    Example:\n",
        "        >>> sr = 32000\n",
        "        >>> window_len = int(5 * sr)\n",
        "        >>> emb, specs = extract_embeddings('Sauim.wav', wlen=window_len, hop_len=window_len)\n",
        "        >>> # Plot the first extracted spectrogram\n",
        "        >>> plot_spectrogram(\"Saguinus bicolor\", specs[0], sr)\n",
        "    \"\"\"\n",
        "    S_dB = librosa.power_to_db(spectrograms, ref=np.max) # Convert to decibels\n",
        "\n",
        "    plt.figure(figsize=(10, 3))\n",
        "    librosa.display.specshow(S_dB, sr=32000, x_axis='time', y_axis='mel',\n",
        "                            hop_length=256+64, # Provide hop_length for correct time axis\n",
        "                            cmap='viridis') # Ensure origin is lower for standard freq plot\n",
        "\n",
        "    plt.colorbar(format='%+2.0f dB')\n",
        "    plt.title(f'Spectrogram of a 5-second segment of {species}')\n",
        "    plt.xlabel('Time (s)')\n",
        "    plt.ylabel('Mel Frequency (Hz)') # Librosa will automatically format this as Mel-Hz\n",
        "\n",
        "    plt.tight_layout()\n",
        "    plt.show()"
      ],
      "metadata": {
        "id": "_7tEn_X7rJEy"
      },
      "execution_count": null,
      "outputs": []
    },
    {
      "cell_type": "markdown",
      "source": [
        "Extract embeddings and spectrograms for a 'Sauim.wav' audio file and save them as NumPy arrays."
      ],
      "metadata": {
        "id": "ys8WDZwRh0tI"
      }
    },
    {
      "cell_type": "code",
      "source": [
        "sr = 32000 # Sampling rate (Hz)\n",
        "window_len = int(5*sr) # 5-second window length in samples"
      ],
      "metadata": {
        "id": "2-ju5lFYQ3P_"
      },
      "execution_count": null,
      "outputs": []
    },
    {
      "cell_type": "code",
      "source": [
        "# Extract embeddings and spectrograms for each 5-second segment\n",
        "sauim_embedding_vectors, sauim_spectrograms = extract_embeddings('Sauim.wav',\n",
        "                                                     wlen=window_len,\n",
        "                                                     hop_len=window_len)\n",
        "\n",
        "# Save outputs to .npy files\n",
        "np.save('sauim_embedding_vectors.npy', sauim_embedding_vectors)\n",
        "np.save('sauim_spectrograms.npy', sauim_spectrograms)"
      ],
      "metadata": {
        "id": "Pm-F9SsRr3ZC"
      },
      "execution_count": null,
      "outputs": []
    },
    {
      "cell_type": "code",
      "source": [
        "plot_spectrogram('sauim call', sauim_spectrograms[2])"
      ],
      "metadata": {
        "id": "2xxJbUXkymy-"
      },
      "execution_count": null,
      "outputs": []
    },
    {
      "cell_type": "markdown",
      "source": [
        "Background noise segments for anomaly data"
      ],
      "metadata": {
        "id": "ZZRKSsrIEafl"
      }
    },
    {
      "cell_type": "code",
      "source": [
        "anomaly_embedding_vectors = []\n",
        "anomaly_spectrograms = []\n",
        "\n",
        "anomaly_embedding_vectors, anomaly_spectrograms = extract_embeddings('Background.wav',\n",
        "                                                     wlen=window_len,\n",
        "                                                     hop_len=window_len)\n",
        "\n",
        "np.save('background_embedding_vectors.npy', anomaly_embedding_vectors)\n",
        "np.save('background_spectrograms.npy', anomaly_spectrograms)"
      ],
      "metadata": {
        "id": "BeU1P_X9Ee8p"
      },
      "execution_count": null,
      "outputs": []
    },
    {
      "cell_type": "code",
      "source": [
        "plot_spectrogram('background noise', anomaly_spectrograms[0])"
      ],
      "metadata": {
        "id": "gK9m9emfypF5"
      },
      "execution_count": null,
      "outputs": []
    },
    {
      "cell_type": "markdown",
      "source": [
        "Anuran calls used as negative class"
      ],
      "metadata": {
        "id": "J9-9MDDNio92"
      }
    },
    {
      "cell_type": "code",
      "source": [
        "anomaly_anurans_vectors = []\n",
        "anomaly_anurans_spectrograms = []\n",
        "\n",
        "anomaly_anurans_vectors, anomaly_anurans_spectrograms = extract_embeddings('Anurans.wav',\n",
        "                                                     wlen=window_len,\n",
        "                                                     hop_len=int(window_len/2))\n",
        "\n",
        "np.save('anurans_embedding_vectors.npy', anomaly_anurans_vectors)\n",
        "np.save('anurans_spectrograms.npy', anomaly_anurans_spectrograms)"
      ],
      "metadata": {
        "id": "CjOyTxvd1LWm"
      },
      "execution_count": null,
      "outputs": []
    },
    {
      "cell_type": "code",
      "source": [
        "plot_spectrogram('anuran call', anomaly_anurans_spectrograms[0])"
      ],
      "metadata": {
        "id": "JZs7Z7MsyrAT"
      },
      "execution_count": null,
      "outputs": []
    },
    {
      "cell_type": "markdown",
      "source": [
        "Bird calls used as negative class"
      ],
      "metadata": {
        "id": "6pEEIpn4it96"
      }
    },
    {
      "cell_type": "code",
      "source": [
        "anomaly_birds_vectors = []\n",
        "anomaly_birds_spectrograms = []\n",
        "\n",
        "anomaly_birds_vectors, anomaly_birds_spectrograms = extract_embeddings('Birds.wav',\n",
        "                                                     wlen=window_len,\n",
        "                                                     hop_len=window_len)\n",
        "\n",
        "np.save('birds_embedding_vectors.npy', anomaly_birds_vectors)\n",
        "np.save('birds_spectrograms.npy', anomaly_birds_spectrograms)"
      ],
      "metadata": {
        "id": "l1hMlnxB1pgc"
      },
      "execution_count": null,
      "outputs": []
    },
    {
      "cell_type": "code",
      "source": [
        "plot_spectrogram('birds call', anomaly_birds_spectrograms[0])"
      ],
      "metadata": {
        "id": "zD-bn-Syys4F"
      },
      "execution_count": null,
      "outputs": []
    },
    {
      "cell_type": "markdown",
      "source": [
        "A soundscape record used for new sauim detections"
      ],
      "metadata": {
        "id": "RFrJH-nYixvX"
      }
    },
    {
      "cell_type": "code",
      "source": [
        "soundscape_vectors = []\n",
        "soundscape_spectrograms = []\n",
        "\n",
        "step = 1\n",
        "hop_len = int(step*sr) # emulates an sliding window of 5 sec length and 1 sec step\n",
        "\n",
        "soundscape_vectors, soundscape_spectrograms = extract_embeddings('Mindu_Saguinus_bicolor_02.02.19-000.wav',\n",
        "                                                     wlen=window_len,\n",
        "                                                     hop_len=hop_len)\n",
        "\n",
        "np.save('soundscape_embedding_vectors.npy', soundscape_vectors)\n",
        "np.save('soundscape_spectrograms.npy', soundscape_spectrograms)"
      ],
      "metadata": {
        "id": "aMvhKXM6e37k"
      },
      "execution_count": null,
      "outputs": []
    },
    {
      "cell_type": "code",
      "source": [
        "anthrophony_vectors = []\n",
        "anthrophony_spectrograms = []\n",
        "\n",
        "step = 2\n",
        "hop_len = int(step*sr) # emulates an sliding window of 5 sec length and 1 sec step\n",
        "\n",
        "anthrophony_vectors, anthrophony_spectrograms = extract_embeddings('Anthrophony.wav',\n",
        "                                                     wlen=window_len,\n",
        "                                                     hop_len=hop_len)\n",
        "\n",
        "np.save('anthrophony_embedding_vectors.npy', anthrophony_vectors)\n",
        "np.save('anthrophony_spectrograms.npy', anthrophony_spectrograms)"
      ],
      "metadata": {
        "id": "2b0iAEKoQqMf"
      },
      "execution_count": null,
      "outputs": []
    },
    {
      "cell_type": "code",
      "source": [
        "geophony_vectors = []\n",
        "geophony_spectrograms = []\n",
        "\n",
        "step = 2\n",
        "hop_len = int(step*sr) # emulates an sliding window of 5 sec length and 1 sec step\n",
        "\n",
        "geophony_vectors, geophony_spectrograms = extract_embeddings('Geophony.wav',\n",
        "                                                     wlen=window_len,\n",
        "                                                     hop_len=hop_len)\n",
        "\n",
        "np.save('geophony_embedding_vectors.npy', geophony_vectors)\n",
        "np.save('geophony_spectrograms.npy', geophony_spectrograms)"
      ],
      "metadata": {
        "id": "7lxIKJ3CX_K1"
      },
      "execution_count": null,
      "outputs": []
    },
    {
      "cell_type": "markdown",
      "source": [
        "## Audio files for the Ocupancy model"
      ],
      "metadata": {
        "id": "iIBLVNOKVzf4"
      }
    },
    {
      "cell_type": "code",
      "source": [
        "os.makedirs(\"MinduPark\", exist_ok=True)  # cria se não existir\n",
        "\n",
        "for i, file in enumerate(os.listdir('Parque do Mindú')):\n",
        "    MinduPark_vectors = []\n",
        "    MinduPark_spectrograms = []\n",
        "\n",
        "    MinduPark_vectors, MinduPark_spectrograms = extract_embeddings(\"Parque do Mindú/\"+file,\n",
        "                                                        wlen=window_len,\n",
        "                                                        hop_len=hop_len)\n",
        "\n",
        "    np.save('MinduPark/MinduPark_embedding_vectors_'+str(i)+'.npy', MinduPark_vectors)\n",
        "    # np.save('MinduPark/MinduPark_spectrograms_'+str(i)+'.npy', MinduPark_spectrograms)\n",
        "\n",
        "!zip -r MinduPark.zip MinduPark"
      ],
      "metadata": {
        "id": "gYc1IsuYUysm"
      },
      "execution_count": null,
      "outputs": []
    },
    {
      "cell_type": "markdown",
      "source": [
        "Load labels, compute cosine distance matrix from embedding vectors, perform hierarchical clustering, and plot a dendrogram."
      ],
      "metadata": {
        "id": "dw6PIRa1i_71"
      }
    },
    {
      "cell_type": "code",
      "source": [
        "# 1. Load labels from CSV\n",
        "records = pd.read_csv('records.csv')  # adjust path if needed\n",
        "labels = records['Bosque_S.bicolor_12.4.19-000'].tolist()\n",
        "\n",
        "# Encode labels as integers\n",
        "le = LabelEncoder()\n",
        "encoded_labels = le.fit_transform(labels)\n",
        "\n",
        "# 2. Compute cosine distance matrix (condensed form)\n",
        "cosine_distances = pdist(sauim_embedding_vectors, metric='cosine')\n",
        "\n",
        "# 3. Perform hierarchical clustering\n",
        "Z = linkage(cosine_distances, method='ward')  # try 'ward', 'complete', etc.\n",
        "\n",
        "# 4. Plot dendrogram\n",
        "plt.figure(figsize=(20, 5))\n",
        "dendrogram(Z, labels=encoded_labels, leaf_font_size=10)\n",
        "plt.xlabel(\"Records segments with sauim vocalizations\")\n",
        "plt.ylabel(\"Cosine distances\")\n",
        "plt.tight_layout()\n",
        "plt.savefig(\"dendongram.pdf\", format='pdf', dpi=300, bbox_inches='tight')\n",
        "plt.show()\n"
      ],
      "metadata": {
        "id": "LP8Wp7qyumYH"
      },
      "execution_count": null,
      "outputs": []
    },
    {
      "cell_type": "code",
      "source": [
        "for i in zip(encoded_labels,labels):\n",
        "    print(i)"
      ],
      "metadata": {
        "id": "zGrT_E7C7z2b"
      },
      "execution_count": null,
      "outputs": []
    },
    {
      "cell_type": "code",
      "source": [],
      "metadata": {
        "id": "h10EQFQsLdZ6"
      },
      "execution_count": null,
      "outputs": []
    }
  ]
}