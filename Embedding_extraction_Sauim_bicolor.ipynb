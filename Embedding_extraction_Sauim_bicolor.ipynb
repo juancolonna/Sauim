{
  "nbformat": 4,
  "nbformat_minor": 0,
  "metadata": {
    "colab": {
      "provenance": [],
      "gpuType": "T4"
    },
    "kernelspec": {
      "name": "python3",
      "display_name": "Python 3"
    },
    "language_info": {
      "name": "python"
    },
    "accelerator": "GPU",
    "widgets": {
      "application/vnd.jupyter.widget-state+json": {
        "11a95f702dd64ee082db655510e42b35": {
          "model_module": "@jupyter-widgets/controls",
          "model_name": "HBoxModel",
          "model_module_version": "1.5.0",
          "state": {
            "_dom_classes": [],
            "_model_module": "@jupyter-widgets/controls",
            "_model_module_version": "1.5.0",
            "_model_name": "HBoxModel",
            "_view_count": null,
            "_view_module": "@jupyter-widgets/controls",
            "_view_module_version": "1.5.0",
            "_view_name": "HBoxView",
            "box_style": "",
            "children": [
              "IPY_MODEL_2a58556c748a467bbd975a5bf2b485a6",
              "IPY_MODEL_da5a742345cd4696930719fc551a33c2",
              "IPY_MODEL_1377c3fd4fc846c7b5792c160cc28ef0"
            ],
            "layout": "IPY_MODEL_758dca60bfc84e3dae1801c63b437cb5"
          }
        },
        "2a58556c748a467bbd975a5bf2b485a6": {
          "model_module": "@jupyter-widgets/controls",
          "model_name": "HTMLModel",
          "model_module_version": "1.5.0",
          "state": {
            "_dom_classes": [],
            "_model_module": "@jupyter-widgets/controls",
            "_model_module_version": "1.5.0",
            "_model_name": "HTMLModel",
            "_view_count": null,
            "_view_module": "@jupyter-widgets/controls",
            "_view_module_version": "1.5.0",
            "_view_name": "HTMLView",
            "description": "",
            "description_tooltip": null,
            "layout": "IPY_MODEL_9c2750fe84cc4c7a8f699da7f35c92e8",
            "placeholder": "​",
            "style": "IPY_MODEL_48c32e6e5e7140648f3b32a5e7b88699",
            "value": "100%"
          }
        },
        "da5a742345cd4696930719fc551a33c2": {
          "model_module": "@jupyter-widgets/controls",
          "model_name": "FloatProgressModel",
          "model_module_version": "1.5.0",
          "state": {
            "_dom_classes": [],
            "_model_module": "@jupyter-widgets/controls",
            "_model_module_version": "1.5.0",
            "_model_name": "FloatProgressModel",
            "_view_count": null,
            "_view_module": "@jupyter-widgets/controls",
            "_view_module_version": "1.5.0",
            "_view_name": "ProgressView",
            "bar_style": "success",
            "description": "",
            "description_tooltip": null,
            "layout": "IPY_MODEL_a51a5e4d13d84a66b137af8cd0c88dfd",
            "max": 564,
            "min": 0,
            "orientation": "horizontal",
            "style": "IPY_MODEL_e7851fe8ddcc4b61a0c17ac55f165b5b",
            "value": 564
          }
        },
        "1377c3fd4fc846c7b5792c160cc28ef0": {
          "model_module": "@jupyter-widgets/controls",
          "model_name": "HTMLModel",
          "model_module_version": "1.5.0",
          "state": {
            "_dom_classes": [],
            "_model_module": "@jupyter-widgets/controls",
            "_model_module_version": "1.5.0",
            "_model_name": "HTMLModel",
            "_view_count": null,
            "_view_module": "@jupyter-widgets/controls",
            "_view_module_version": "1.5.0",
            "_view_name": "HTMLView",
            "description": "",
            "description_tooltip": null,
            "layout": "IPY_MODEL_13c01afca497496ba5903d6d6bafee23",
            "placeholder": "​",
            "style": "IPY_MODEL_f2df6b318e7445a4a1276d11529816a7",
            "value": " 564/564 [00:21&lt;00:00, 137.80it/s]"
          }
        },
        "758dca60bfc84e3dae1801c63b437cb5": {
          "model_module": "@jupyter-widgets/base",
          "model_name": "LayoutModel",
          "model_module_version": "1.2.0",
          "state": {
            "_model_module": "@jupyter-widgets/base",
            "_model_module_version": "1.2.0",
            "_model_name": "LayoutModel",
            "_view_count": null,
            "_view_module": "@jupyter-widgets/base",
            "_view_module_version": "1.2.0",
            "_view_name": "LayoutView",
            "align_content": null,
            "align_items": null,
            "align_self": null,
            "border": null,
            "bottom": null,
            "display": null,
            "flex": null,
            "flex_flow": null,
            "grid_area": null,
            "grid_auto_columns": null,
            "grid_auto_flow": null,
            "grid_auto_rows": null,
            "grid_column": null,
            "grid_gap": null,
            "grid_row": null,
            "grid_template_areas": null,
            "grid_template_columns": null,
            "grid_template_rows": null,
            "height": null,
            "justify_content": null,
            "justify_items": null,
            "left": null,
            "margin": null,
            "max_height": null,
            "max_width": null,
            "min_height": null,
            "min_width": null,
            "object_fit": null,
            "object_position": null,
            "order": null,
            "overflow": null,
            "overflow_x": null,
            "overflow_y": null,
            "padding": null,
            "right": null,
            "top": null,
            "visibility": null,
            "width": null
          }
        },
        "9c2750fe84cc4c7a8f699da7f35c92e8": {
          "model_module": "@jupyter-widgets/base",
          "model_name": "LayoutModel",
          "model_module_version": "1.2.0",
          "state": {
            "_model_module": "@jupyter-widgets/base",
            "_model_module_version": "1.2.0",
            "_model_name": "LayoutModel",
            "_view_count": null,
            "_view_module": "@jupyter-widgets/base",
            "_view_module_version": "1.2.0",
            "_view_name": "LayoutView",
            "align_content": null,
            "align_items": null,
            "align_self": null,
            "border": null,
            "bottom": null,
            "display": null,
            "flex": null,
            "flex_flow": null,
            "grid_area": null,
            "grid_auto_columns": null,
            "grid_auto_flow": null,
            "grid_auto_rows": null,
            "grid_column": null,
            "grid_gap": null,
            "grid_row": null,
            "grid_template_areas": null,
            "grid_template_columns": null,
            "grid_template_rows": null,
            "height": null,
            "justify_content": null,
            "justify_items": null,
            "left": null,
            "margin": null,
            "max_height": null,
            "max_width": null,
            "min_height": null,
            "min_width": null,
            "object_fit": null,
            "object_position": null,
            "order": null,
            "overflow": null,
            "overflow_x": null,
            "overflow_y": null,
            "padding": null,
            "right": null,
            "top": null,
            "visibility": null,
            "width": null
          }
        },
        "48c32e6e5e7140648f3b32a5e7b88699": {
          "model_module": "@jupyter-widgets/controls",
          "model_name": "DescriptionStyleModel",
          "model_module_version": "1.5.0",
          "state": {
            "_model_module": "@jupyter-widgets/controls",
            "_model_module_version": "1.5.0",
            "_model_name": "DescriptionStyleModel",
            "_view_count": null,
            "_view_module": "@jupyter-widgets/base",
            "_view_module_version": "1.2.0",
            "_view_name": "StyleView",
            "description_width": ""
          }
        },
        "a51a5e4d13d84a66b137af8cd0c88dfd": {
          "model_module": "@jupyter-widgets/base",
          "model_name": "LayoutModel",
          "model_module_version": "1.2.0",
          "state": {
            "_model_module": "@jupyter-widgets/base",
            "_model_module_version": "1.2.0",
            "_model_name": "LayoutModel",
            "_view_count": null,
            "_view_module": "@jupyter-widgets/base",
            "_view_module_version": "1.2.0",
            "_view_name": "LayoutView",
            "align_content": null,
            "align_items": null,
            "align_self": null,
            "border": null,
            "bottom": null,
            "display": null,
            "flex": null,
            "flex_flow": null,
            "grid_area": null,
            "grid_auto_columns": null,
            "grid_auto_flow": null,
            "grid_auto_rows": null,
            "grid_column": null,
            "grid_gap": null,
            "grid_row": null,
            "grid_template_areas": null,
            "grid_template_columns": null,
            "grid_template_rows": null,
            "height": null,
            "justify_content": null,
            "justify_items": null,
            "left": null,
            "margin": null,
            "max_height": null,
            "max_width": null,
            "min_height": null,
            "min_width": null,
            "object_fit": null,
            "object_position": null,
            "order": null,
            "overflow": null,
            "overflow_x": null,
            "overflow_y": null,
            "padding": null,
            "right": null,
            "top": null,
            "visibility": null,
            "width": null
          }
        },
        "e7851fe8ddcc4b61a0c17ac55f165b5b": {
          "model_module": "@jupyter-widgets/controls",
          "model_name": "ProgressStyleModel",
          "model_module_version": "1.5.0",
          "state": {
            "_model_module": "@jupyter-widgets/controls",
            "_model_module_version": "1.5.0",
            "_model_name": "ProgressStyleModel",
            "_view_count": null,
            "_view_module": "@jupyter-widgets/base",
            "_view_module_version": "1.2.0",
            "_view_name": "StyleView",
            "bar_color": null,
            "description_width": ""
          }
        },
        "13c01afca497496ba5903d6d6bafee23": {
          "model_module": "@jupyter-widgets/base",
          "model_name": "LayoutModel",
          "model_module_version": "1.2.0",
          "state": {
            "_model_module": "@jupyter-widgets/base",
            "_model_module_version": "1.2.0",
            "_model_name": "LayoutModel",
            "_view_count": null,
            "_view_module": "@jupyter-widgets/base",
            "_view_module_version": "1.2.0",
            "_view_name": "LayoutView",
            "align_content": null,
            "align_items": null,
            "align_self": null,
            "border": null,
            "bottom": null,
            "display": null,
            "flex": null,
            "flex_flow": null,
            "grid_area": null,
            "grid_auto_columns": null,
            "grid_auto_flow": null,
            "grid_auto_rows": null,
            "grid_column": null,
            "grid_gap": null,
            "grid_row": null,
            "grid_template_areas": null,
            "grid_template_columns": null,
            "grid_template_rows": null,
            "height": null,
            "justify_content": null,
            "justify_items": null,
            "left": null,
            "margin": null,
            "max_height": null,
            "max_width": null,
            "min_height": null,
            "min_width": null,
            "object_fit": null,
            "object_position": null,
            "order": null,
            "overflow": null,
            "overflow_x": null,
            "overflow_y": null,
            "padding": null,
            "right": null,
            "top": null,
            "visibility": null,
            "width": null
          }
        },
        "f2df6b318e7445a4a1276d11529816a7": {
          "model_module": "@jupyter-widgets/controls",
          "model_name": "DescriptionStyleModel",
          "model_module_version": "1.5.0",
          "state": {
            "_model_module": "@jupyter-widgets/controls",
            "_model_module_version": "1.5.0",
            "_model_name": "DescriptionStyleModel",
            "_view_count": null,
            "_view_module": "@jupyter-widgets/base",
            "_view_module_version": "1.2.0",
            "_view_name": "StyleView",
            "description_width": ""
          }
        }
      }
    }
  },
  "cells": [
    {
      "cell_type": "markdown",
      "metadata": {
        "id": "1410e1a9"
      },
      "source": [
        "# Sauim bicolor Vocalization Classifier and Analysis\n",
        "\n",
        "This notebook demonstrates how to use the Perch bird vocalization classifier model from TensorFlow Hub to extract embeddings from audio files of Sauim bicolor primate and perform analysis on the extracted embeddings, such as hierarchical clustering.\n",
        "\n",
        "The notebook covers the following steps:\n",
        "\n",
        "1.  **Setup**: Installing necessary libraries and loading the Perch model.\n",
        "2.  **Data Loading**: Downloading example audio files and a CSV file containing labels.\n",
        "3.  **Feature Extraction**: Defining and using a function to extract embeddings and spectrograms from audio segments.\n",
        "4.  **Spectrogram Visualization**: Plotting spectrograms to visualize the audio data.\n",
        "5.  **Clustering Analysis**: Performing hierarchical clustering on the extracted embeddings and visualizing the results as a dendrogram."
      ]
    },
    {
      "cell_type": "code",
      "source": [
        "%pip install tensorflow_hub -q"
      ],
      "metadata": {
        "id": "5Wn6WnFmiZMd"
      },
      "execution_count": 1,
      "outputs": []
    },
    {
      "cell_type": "code",
      "source": [
        "import csv\n",
        "import librosa\n",
        "import gdown\n",
        "import zipfile\n",
        "import shutil\n",
        "import os\n",
        "import soundfile as sf\n",
        "from tqdm.notebook import trange, tqdm\n",
        "from matplotlib import pyplot as plt\n",
        "import numpy as np\n",
        "import pandas as pd\n",
        "from scipy.spatial.distance import pdist, squareform\n",
        "from scipy.cluster.hierarchy import linkage, dendrogram\n",
        "from sklearn.preprocessing import LabelEncoder\n",
        "import tensorflow_hub as hub\n",
        "import tensorflow as tf\n",
        "tf.experimental.numpy.experimental_enable_numpy_behavior()\n",
        "\n",
        "# Load Perch model.\n",
        "model = hub.load('https://www.kaggle.com/models/google/bird-vocalization-classifier/TensorFlow2/bird-vocalization-classifier/8')"
      ],
      "metadata": {
        "id": "RXBASefWBZUK"
      },
      "execution_count": 2,
      "outputs": []
    },
    {
      "cell_type": "code",
      "source": [
        "# Remove the directory and all its contents\n",
        "if os.path.exists('Parque do Mindú'):\n",
        "    shutil.rmtree('Parque do Mindú')\n",
        "    print(\"Folder 'Parque do Mindú' removed.\")\n",
        "\n",
        "if os.path.exists('MinduPark_38'):\n",
        "    shutil.rmtree('MinduPark_38')\n",
        "    print(\"Folder 'MinduPark_38' removed.\")"
      ],
      "metadata": {
        "id": "AgXzxtgeTZJv"
      },
      "execution_count": 3,
      "outputs": []
    },
    {
      "cell_type": "markdown",
      "source": [
        "Automatically download the necessary files"
      ],
      "metadata": {
        "id": "Eldke65Zhynt"
      }
    },
    {
      "cell_type": "code",
      "source": [
        "!wget https://github.com/juancolonna/Sauim/raw/main/records/records.csv -O records.csv\n",
        "!wget https://github.com/juancolonna/Sauim/raw/main/records/Sauim.wav -O Sauim.wav\n",
        "!wget https://github.com/juancolonna/Sauim/raw/main/records/Anurans.wav -O Anurans.wav\n",
        "!wget https://github.com/juancolonna/Sauim/raw/main/records/Anthrophony.wav -O Anthrophony.wav\n",
        "!wget https://github.com/juancolonna/Sauim/raw/main/records/Background.wav -O Background.wav\n",
        "!wget https://github.com/juancolonna/Sauim/raw/main/records/Birds.wav -O Birds.wav\n",
        "!wget https://github.com/juancolonna/Sauim/raw/main/records/Geophony.wav -O Geophony.wav\n",
        "!wget https://github.com/juancolonna/Sauim/raw/main/records/Mindu_Saguinus%20bicolor_02.02.19-000.wav -O Mindu_Saguinus_bicolor_02.02.19-000.wav\n",
        "!wget https://github.com/juancolonna/Sauim/raw/main/records/Mindu_Saguinus_bicolor_02.02.19-000_bandpass_filtered.wav -O Mindu_Saguinus_bicolor_02.02.19-000_bandpass_filtered.wav\n",
        "\n",
        "\n",
        "!wget https://github.com/juancolonna/Sauim/raw/main/records/Parque_do_Mindú.zip -O Parque_do_Mindú.zip\n",
        "!unzip -q Parque_do_Mindú.zip\n",
        "\n",
        "!wget https://github.com/juancolonna/Sauim/raw/main/records/Parque_do_Mindu_38.zip -O Parque_do_Mindu_38.zip\n",
        "!unzip -q Parque_do_Mindu_38.zip -d Parque_do_Mindu_38"
      ],
      "metadata": {
        "id": "77UP_r_ERni-",
        "colab": {
          "base_uri": "https://localhost:8080/"
        },
        "outputId": "e8a5bde6-416a-4661-fc49-54b7426620df"
      },
      "execution_count": 4,
      "outputs": [
        {
          "output_type": "stream",
          "name": "stdout",
          "text": [
            "--2025-08-27 02:33:54--  https://github.com/juancolonna/Sauim/raw/main/records/records.csv\n",
            "Resolving github.com (github.com)... 20.205.243.166\n",
            "Connecting to github.com (github.com)|20.205.243.166|:443... connected.\n",
            "HTTP request sent, awaiting response... 302 Found\n",
            "Location: https://raw.githubusercontent.com/juancolonna/Sauim/main/records/records.csv [following]\n",
            "--2025-08-27 02:33:54--  https://raw.githubusercontent.com/juancolonna/Sauim/main/records/records.csv\n",
            "Resolving raw.githubusercontent.com (raw.githubusercontent.com)... 185.199.108.133, 185.199.109.133, 185.199.110.133, ...\n",
            "Connecting to raw.githubusercontent.com (raw.githubusercontent.com)|185.199.108.133|:443... connected.\n",
            "HTTP request sent, awaiting response... 200 OK\n",
            "Length: 4060 (4.0K) [text/plain]\n",
            "Saving to: ‘records.csv’\n",
            "\n",
            "records.csv         100%[===================>]   3.96K  --.-KB/s    in 0s      \n",
            "\n",
            "2025-08-27 02:33:55 (63.4 MB/s) - ‘records.csv’ saved [4060/4060]\n",
            "\n",
            "--2025-08-27 02:33:55--  https://github.com/juancolonna/Sauim/raw/main/records/Sauim.wav\n",
            "Resolving github.com (github.com)... 20.205.243.166\n",
            "Connecting to github.com (github.com)|20.205.243.166|:443... connected.\n",
            "HTTP request sent, awaiting response... 302 Found\n",
            "Location: https://media.githubusercontent.com/media/juancolonna/Sauim/main/records/Sauim.wav [following]\n",
            "--2025-08-27 02:33:55--  https://media.githubusercontent.com/media/juancolonna/Sauim/main/records/Sauim.wav\n",
            "Resolving media.githubusercontent.com (media.githubusercontent.com)... 185.199.111.133, 185.199.108.133, 185.199.109.133, ...\n",
            "Connecting to media.githubusercontent.com (media.githubusercontent.com)|185.199.111.133|:443... connected.\n",
            "HTTP request sent, awaiting response... 200 OK\n",
            "Length: 38080044 (36M) [audio/wav]\n",
            "Saving to: ‘Sauim.wav’\n",
            "\n",
            "Sauim.wav           100%[===================>]  36.32M  17.3MB/s    in 2.1s    \n",
            "\n",
            "2025-08-27 02:33:58 (17.3 MB/s) - ‘Sauim.wav’ saved [38080044/38080044]\n",
            "\n",
            "--2025-08-27 02:33:58--  https://github.com/juancolonna/Sauim/raw/main/records/Anurans.wav\n",
            "Resolving github.com (github.com)... 20.205.243.166\n",
            "Connecting to github.com (github.com)|20.205.243.166|:443... connected.\n",
            "HTTP request sent, awaiting response... 302 Found\n",
            "Location: https://media.githubusercontent.com/media/juancolonna/Sauim/main/records/Anurans.wav [following]\n",
            "--2025-08-27 02:33:58--  https://media.githubusercontent.com/media/juancolonna/Sauim/main/records/Anurans.wav\n",
            "Resolving media.githubusercontent.com (media.githubusercontent.com)... 185.199.111.133, 185.199.108.133, 185.199.109.133, ...\n",
            "Connecting to media.githubusercontent.com (media.githubusercontent.com)|185.199.111.133|:443... connected.\n",
            "HTTP request sent, awaiting response... 200 OK\n",
            "Length: 54604322 (52M) [audio/wav]\n",
            "Saving to: ‘Anurans.wav’\n",
            "\n",
            "Anurans.wav         100%[===================>]  52.07M  15.0MB/s    in 3.5s    \n",
            "\n",
            "2025-08-27 02:34:02 (15.0 MB/s) - ‘Anurans.wav’ saved [54604322/54604322]\n",
            "\n",
            "--2025-08-27 02:34:02--  https://github.com/juancolonna/Sauim/raw/main/records/Anthrophony.wav\n",
            "Resolving github.com (github.com)... 20.205.243.166\n",
            "Connecting to github.com (github.com)|20.205.243.166|:443... connected.\n",
            "HTTP request sent, awaiting response... 302 Found\n",
            "Location: https://media.githubusercontent.com/media/juancolonna/Sauim/main/records/Anthrophony.wav [following]\n",
            "--2025-08-27 02:34:02--  https://media.githubusercontent.com/media/juancolonna/Sauim/main/records/Anthrophony.wav\n",
            "Resolving media.githubusercontent.com (media.githubusercontent.com)... 185.199.111.133, 185.199.108.133, 185.199.109.133, ...\n",
            "Connecting to media.githubusercontent.com (media.githubusercontent.com)|185.199.111.133|:443... connected.\n",
            "HTTP request sent, awaiting response... 200 OK\n",
            "Length: 10998114 (10M) [audio/wav]\n",
            "Saving to: ‘Anthrophony.wav’\n",
            "\n",
            "Anthrophony.wav     100%[===================>]  10.49M  21.5MB/s    in 0.5s    \n",
            "\n",
            "2025-08-27 02:34:03 (21.5 MB/s) - ‘Anthrophony.wav’ saved [10998114/10998114]\n",
            "\n",
            "--2025-08-27 02:34:03--  https://github.com/juancolonna/Sauim/raw/main/records/Background.wav\n",
            "Resolving github.com (github.com)... 20.205.243.166\n",
            "Connecting to github.com (github.com)|20.205.243.166|:443... connected.\n",
            "HTTP request sent, awaiting response... 302 Found\n",
            "Location: https://media.githubusercontent.com/media/juancolonna/Sauim/main/records/Background.wav [following]\n",
            "--2025-08-27 02:34:04--  https://media.githubusercontent.com/media/juancolonna/Sauim/main/records/Background.wav\n",
            "Resolving media.githubusercontent.com (media.githubusercontent.com)... 185.199.111.133, 185.199.108.133, 185.199.109.133, ...\n",
            "Connecting to media.githubusercontent.com (media.githubusercontent.com)|185.199.111.133|:443... connected.\n",
            "HTTP request sent, awaiting response... 200 OK\n",
            "Length: 158592632 (151M) [audio/wav]\n",
            "Saving to: ‘Background.wav’\n",
            "\n",
            "Background.wav      100%[===================>] 151.25M  17.0MB/s    in 9.0s    \n",
            "\n",
            "2025-08-27 02:34:13 (16.9 MB/s) - ‘Background.wav’ saved [158592632/158592632]\n",
            "\n",
            "--2025-08-27 02:34:13--  https://github.com/juancolonna/Sauim/raw/main/records/Birds.wav\n",
            "Resolving github.com (github.com)... 20.205.243.166\n",
            "Connecting to github.com (github.com)|20.205.243.166|:443... connected.\n",
            "HTTP request sent, awaiting response... 302 Found\n",
            "Location: https://media.githubusercontent.com/media/juancolonna/Sauim/main/records/Birds.wav [following]\n",
            "--2025-08-27 02:34:14--  https://media.githubusercontent.com/media/juancolonna/Sauim/main/records/Birds.wav\n",
            "Resolving media.githubusercontent.com (media.githubusercontent.com)... 185.199.111.133, 185.199.108.133, 185.199.109.133, ...\n",
            "Connecting to media.githubusercontent.com (media.githubusercontent.com)|185.199.111.133|:443... connected.\n",
            "HTTP request sent, awaiting response... 200 OK\n",
            "Length: 125674900 (120M) [audio/wav]\n",
            "Saving to: ‘Birds.wav’\n",
            "\n",
            "Birds.wav           100%[===================>] 119.85M  16.2MB/s    in 7.6s    \n",
            "\n",
            "2025-08-27 02:34:22 (15.8 MB/s) - ‘Birds.wav’ saved [125674900/125674900]\n",
            "\n",
            "--2025-08-27 02:34:22--  https://github.com/juancolonna/Sauim/raw/main/records/Geophony.wav\n",
            "Resolving github.com (github.com)... 20.205.243.166\n",
            "Connecting to github.com (github.com)|20.205.243.166|:443... connected.\n",
            "HTTP request sent, awaiting response... 302 Found\n",
            "Location: https://media.githubusercontent.com/media/juancolonna/Sauim/main/records/Geophony.wav [following]\n",
            "--2025-08-27 02:34:22--  https://media.githubusercontent.com/media/juancolonna/Sauim/main/records/Geophony.wav\n",
            "Resolving media.githubusercontent.com (media.githubusercontent.com)... 185.199.111.133, 185.199.108.133, 185.199.109.133, ...\n",
            "Connecting to media.githubusercontent.com (media.githubusercontent.com)|185.199.111.133|:443... connected.\n",
            "HTTP request sent, awaiting response... 200 OK\n",
            "Length: 10133474 (9.7M) [audio/wav]\n",
            "Saving to: ‘Geophony.wav’\n",
            "\n",
            "Geophony.wav        100%[===================>]   9.66M  19.1MB/s    in 0.5s    \n",
            "\n",
            "2025-08-27 02:34:23 (19.1 MB/s) - ‘Geophony.wav’ saved [10133474/10133474]\n",
            "\n",
            "--2025-08-27 02:34:23--  https://github.com/juancolonna/Sauim/raw/main/records/Mindu_Saguinus%20bicolor_02.02.19-000.wav\n",
            "Resolving github.com (github.com)... 20.205.243.166\n",
            "Connecting to github.com (github.com)|20.205.243.166|:443... connected.\n",
            "HTTP request sent, awaiting response... 302 Found\n",
            "Location: https://media.githubusercontent.com/media/juancolonna/Sauim/main/records/Mindu_Saguinus%20bicolor_02.02.19-000.wav [following]\n",
            "--2025-08-27 02:34:23--  https://media.githubusercontent.com/media/juancolonna/Sauim/main/records/Mindu_Saguinus%20bicolor_02.02.19-000.wav\n",
            "Resolving media.githubusercontent.com (media.githubusercontent.com)... 185.199.111.133, 185.199.108.133, 185.199.109.133, ...\n",
            "Connecting to media.githubusercontent.com (media.githubusercontent.com)|185.199.111.133|:443... connected.\n",
            "HTTP request sent, awaiting response... 200 OK\n",
            "Length: 99336950 (95M) [audio/wav]\n",
            "Saving to: ‘Mindu_Saguinus_bicolor_02.02.19-000.wav’\n",
            "\n",
            "Mindu_Saguinus_bico 100%[===================>]  94.73M  12.9MB/s    in 7.5s    \n",
            "\n",
            "2025-08-27 02:34:31 (12.6 MB/s) - ‘Mindu_Saguinus_bicolor_02.02.19-000.wav’ saved [99336950/99336950]\n",
            "\n",
            "--2025-08-27 02:34:31--  https://github.com/juancolonna/Sauim/raw/main/records/Mindu_Saguinus_bicolor_02.02.19-000_bandpass_filtered.wav\n",
            "Resolving github.com (github.com)... 20.205.243.166\n",
            "Connecting to github.com (github.com)|20.205.243.166|:443... connected.\n",
            "HTTP request sent, awaiting response... 302 Found\n",
            "Location: https://media.githubusercontent.com/media/juancolonna/Sauim/main/records/Mindu_Saguinus_bicolor_02.02.19-000_bandpass_filtered.wav [following]\n",
            "--2025-08-27 02:34:32--  https://media.githubusercontent.com/media/juancolonna/Sauim/main/records/Mindu_Saguinus_bicolor_02.02.19-000_bandpass_filtered.wav\n",
            "Resolving media.githubusercontent.com (media.githubusercontent.com)... 185.199.111.133, 185.199.108.133, 185.199.109.133, ...\n",
            "Connecting to media.githubusercontent.com (media.githubusercontent.com)|185.199.111.133|:443... connected.\n",
            "HTTP request sent, awaiting response... 200 OK\n",
            "Length: 72080558 (69M) [audio/wav]\n",
            "Saving to: ‘Mindu_Saguinus_bicolor_02.02.19-000_bandpass_filtered.wav’\n",
            "\n",
            "Mindu_Saguinus_bico 100%[===================>]  68.74M  16.4MB/s    in 4.2s    \n",
            "\n",
            "2025-08-27 02:34:36 (16.4 MB/s) - ‘Mindu_Saguinus_bicolor_02.02.19-000_bandpass_filtered.wav’ saved [72080558/72080558]\n",
            "\n",
            "--2025-08-27 02:34:36--  https://github.com/juancolonna/Sauim/raw/main/records/Parque_do_Mind%C3%BA.zip\n",
            "Resolving github.com (github.com)... 20.205.243.166\n",
            "Connecting to github.com (github.com)|20.205.243.166|:443... connected.\n",
            "HTTP request sent, awaiting response... 302 Found\n",
            "Location: https://media.githubusercontent.com/media/juancolonna/Sauim/main/records/Parque_do_Mind%C3%BA.zip [following]\n",
            "--2025-08-27 02:34:37--  https://media.githubusercontent.com/media/juancolonna/Sauim/main/records/Parque_do_Mind%C3%BA.zip\n",
            "Resolving media.githubusercontent.com (media.githubusercontent.com)... 185.199.111.133, 185.199.108.133, 185.199.109.133, ...\n",
            "Connecting to media.githubusercontent.com (media.githubusercontent.com)|185.199.111.133|:443... connected.\n",
            "HTTP request sent, awaiting response... 200 OK\n",
            "Length: 467439862 (446M) [application/zip]\n",
            "Saving to: ‘Parque_do_Mindú.zip’\n",
            "\n",
            "Parque_do_Mindú.zip 100%[===================>] 445.79M  16.3MB/s    in 29s     \n",
            "\n",
            "2025-08-27 02:35:07 (15.2 MB/s) - ‘Parque_do_Mindú.zip’ saved [467439862/467439862]\n",
            "\n",
            "--2025-08-27 02:35:14--  https://github.com/juancolonna/Sauim/raw/main/records/Parque_do_Mindu_38.zip\n",
            "Resolving github.com (github.com)... 20.205.243.166\n",
            "Connecting to github.com (github.com)|20.205.243.166|:443... connected.\n",
            "HTTP request sent, awaiting response... 302 Found\n",
            "Location: https://media.githubusercontent.com/media/juancolonna/Sauim/main/records/Parque_do_Mindu_38.zip [following]\n",
            "--2025-08-27 02:35:15--  https://media.githubusercontent.com/media/juancolonna/Sauim/main/records/Parque_do_Mindu_38.zip\n",
            "Resolving media.githubusercontent.com (media.githubusercontent.com)... 185.199.108.133, 185.199.109.133, 185.199.110.133, ...\n",
            "Connecting to media.githubusercontent.com (media.githubusercontent.com)|185.199.108.133|:443... connected.\n",
            "HTTP request sent, awaiting response... 200 OK\n",
            "Length: 432939017 (413M) [application/zip]\n",
            "Saving to: ‘Parque_do_Mindu_38.zip’\n",
            "\n",
            "Parque_do_Mindu_38. 100%[===================>] 412.88M  17.1MB/s    in 41s     \n",
            "\n",
            "2025-08-27 02:35:56 (9.98 MB/s) - ‘Parque_do_Mindu_38.zip’ saved [432939017/432939017]\n",
            "\n"
          ]
        }
      ]
    },
    {
      "cell_type": "code",
      "source": [
        "def extract_embeddings(file: str, wlen: int, hop_len: int):\n",
        "    \"\"\"\n",
        "    Extracts embedding vectors and spectrograms from an audio file.\n",
        "\n",
        "    Args:\n",
        "        file (str): Path to the audio file.\n",
        "        wlen (int): Window length in samples.\n",
        "        hop_len (int): Hop length in samples.\n",
        "\n",
        "    Returns:\n",
        "        tuple: (list of embedding vectors, list of spectrogram arrays)\n",
        "\n",
        "    Example:\n",
        "        >>> sr = 32000  # Sampling rate in Hz\n",
        "        >>> window_len = int(5 * sr)  # 5-second window\n",
        "        >>> emb, specs = extract_embeddings('Sauim.wav', wlen=window_len, hop_len=window_len)\n",
        "        >>> np.save('sauim_embedding_vectors.npy', emb)\n",
        "        >>> np.save('sauim_spectrograms.npy', specs)\n",
        "    \"\"\"\n",
        "\n",
        "    y, sr = librosa.load(file, sr=32000)  # Load audio\n",
        "    y = y / np.max(np.abs(y)) # Normalize amplitude\n",
        "\n",
        "    embedding_vectors = []\n",
        "    spectrograms = []\n",
        "\n",
        "    for time in tqdm(range(0, len(y), hop_len)):\n",
        "        if time + wlen < len(y):\n",
        "            segment = y[time:time+wlen]\n",
        "            model_outputs = model.infer_tf(segment[np.newaxis, :])\n",
        "            embedding_vectors.append(model_outputs['embedding'].numpy()[0])\n",
        "            spectrograms.append(model_outputs['frontend'][0].T.numpy())\n",
        "\n",
        "    return embedding_vectors, spectrograms\n",
        "\n",
        "def plot_spectrogram(species: str, spectrograms):\n",
        "    \"\"\"\n",
        "    Plots a Mel spectrogram in dB scale for a given species.\n",
        "\n",
        "    Args:\n",
        "        species (str): Species name.\n",
        "        spectrograms (ndarray): Spectrogram array.\n",
        "        sr (int): Sampling rate in Hz.\n",
        "\n",
        "    Example:\n",
        "        >>> sr = 32000\n",
        "        >>> window_len = int(5 * sr)\n",
        "        >>> emb, specs = extract_embeddings('Sauim.wav', wlen=window_len, hop_len=window_len)\n",
        "        >>> # Plot the first extracted spectrogram\n",
        "        >>> plot_spectrogram(\"Saguinus bicolor\", specs[0], sr)\n",
        "    \"\"\"\n",
        "    S_dB = librosa.power_to_db(spectrograms, ref=np.max) # Convert to decibels\n",
        "\n",
        "    plt.figure(figsize=(10, 3))\n",
        "    librosa.display.specshow(S_dB, sr=32000, x_axis='time', y_axis='mel',\n",
        "                            hop_length=256+64, # Provide hop_length for correct time axis\n",
        "                            cmap='viridis') # Ensure origin is lower for standard freq plot\n",
        "\n",
        "    plt.colorbar(format='%+2.0f dB')\n",
        "    plt.title(f'Spectrogram of a 5-second segment of {species}')\n",
        "    plt.xlabel('Time (s)')\n",
        "    plt.ylabel('Mel Frequency (Hz)') # Librosa will automatically format this as Mel-Hz\n",
        "\n",
        "    plt.tight_layout()\n",
        "    plt.show()"
      ],
      "metadata": {
        "id": "_7tEn_X7rJEy"
      },
      "execution_count": 5,
      "outputs": []
    },
    {
      "cell_type": "markdown",
      "source": [
        "Extract embeddings and spectrograms for a 'Sauim.wav' audio file and save them as NumPy arrays."
      ],
      "metadata": {
        "id": "ys8WDZwRh0tI"
      }
    },
    {
      "cell_type": "code",
      "source": [
        "sr = 32000 # Sampling rate (Hz)\n",
        "window_len = int(5*sr) # 5-second window length in samples"
      ],
      "metadata": {
        "id": "2-ju5lFYQ3P_"
      },
      "execution_count": 6,
      "outputs": []
    },
    {
      "cell_type": "code",
      "source": [
        "# Extract embeddings and spectrograms for each 5-second segment\n",
        "sauim_embedding_vectors, sauim_spectrograms = extract_embeddings('Sauim.wav',\n",
        "                                                     wlen=window_len,\n",
        "                                                     hop_len=window_len)\n",
        "\n",
        "# Save outputs to .npy files\n",
        "np.save('sauim_embedding_vectors.npy', sauim_embedding_vectors)\n",
        "np.save('sauim_spectrograms.npy', sauim_spectrograms)"
      ],
      "metadata": {
        "id": "Pm-F9SsRr3ZC"
      },
      "execution_count": null,
      "outputs": []
    },
    {
      "cell_type": "code",
      "source": [
        "plot_spectrogram('sauim call', sauim_spectrograms[2])"
      ],
      "metadata": {
        "id": "2xxJbUXkymy-"
      },
      "execution_count": null,
      "outputs": []
    },
    {
      "cell_type": "markdown",
      "source": [
        "Background noise segments for anomaly data"
      ],
      "metadata": {
        "id": "ZZRKSsrIEafl"
      }
    },
    {
      "cell_type": "code",
      "source": [
        "anomaly_embedding_vectors = []\n",
        "anomaly_spectrograms = []\n",
        "\n",
        "anomaly_embedding_vectors, anomaly_spectrograms = extract_embeddings('Background.wav',\n",
        "                                                     wlen=window_len,\n",
        "                                                     hop_len=window_len)\n",
        "\n",
        "np.save('background_embedding_vectors.npy', anomaly_embedding_vectors)\n",
        "np.save('background_spectrograms.npy', anomaly_spectrograms)"
      ],
      "metadata": {
        "id": "BeU1P_X9Ee8p"
      },
      "execution_count": null,
      "outputs": []
    },
    {
      "cell_type": "code",
      "source": [
        "plot_spectrogram('background noise', anomaly_spectrograms[0])"
      ],
      "metadata": {
        "id": "gK9m9emfypF5"
      },
      "execution_count": null,
      "outputs": []
    },
    {
      "cell_type": "markdown",
      "source": [
        "Anuran calls used as negative class"
      ],
      "metadata": {
        "id": "J9-9MDDNio92"
      }
    },
    {
      "cell_type": "code",
      "source": [
        "anomaly_anurans_vectors = []\n",
        "anomaly_anurans_spectrograms = []\n",
        "\n",
        "anomaly_anurans_vectors, anomaly_anurans_spectrograms = extract_embeddings('Anurans.wav',\n",
        "                                                     wlen=window_len,\n",
        "                                                     hop_len=int(window_len/2))\n",
        "\n",
        "np.save('anurans_embedding_vectors.npy', anomaly_anurans_vectors)\n",
        "np.save('anurans_spectrograms.npy', anomaly_anurans_spectrograms)"
      ],
      "metadata": {
        "id": "CjOyTxvd1LWm"
      },
      "execution_count": null,
      "outputs": []
    },
    {
      "cell_type": "code",
      "source": [
        "plot_spectrogram('anuran call', anomaly_anurans_spectrograms[0])"
      ],
      "metadata": {
        "id": "JZs7Z7MsyrAT"
      },
      "execution_count": null,
      "outputs": []
    },
    {
      "cell_type": "markdown",
      "source": [
        "Bird calls used as negative class"
      ],
      "metadata": {
        "id": "6pEEIpn4it96"
      }
    },
    {
      "cell_type": "code",
      "source": [
        "anomaly_birds_vectors = []\n",
        "anomaly_birds_spectrograms = []\n",
        "\n",
        "anomaly_birds_vectors, anomaly_birds_spectrograms = extract_embeddings('Birds.wav',\n",
        "                                                     wlen=window_len,\n",
        "                                                     hop_len=window_len)\n",
        "\n",
        "np.save('birds_embedding_vectors.npy', anomaly_birds_vectors)\n",
        "np.save('birds_spectrograms.npy', anomaly_birds_spectrograms)"
      ],
      "metadata": {
        "id": "l1hMlnxB1pgc"
      },
      "execution_count": null,
      "outputs": []
    },
    {
      "cell_type": "code",
      "source": [
        "plot_spectrogram('birds call', anomaly_birds_spectrograms[0])"
      ],
      "metadata": {
        "id": "zD-bn-Syys4F"
      },
      "execution_count": null,
      "outputs": []
    },
    {
      "cell_type": "markdown",
      "source": [
        "A soundscape record used for new sauim detections"
      ],
      "metadata": {
        "id": "RFrJH-nYixvX"
      }
    },
    {
      "cell_type": "code",
      "source": [
        "soundscape_vectors = []\n",
        "soundscape_spectrograms = []\n",
        "\n",
        "step = 1\n",
        "hop_len = int(step*sr) # emulates an sliding window of 5 sec length and 1 sec step\n",
        "\n",
        "soundscape_vectors, soundscape_spectrograms = extract_embeddings('Mindu_Saguinus_bicolor_02.02.19-000.wav',\n",
        "                                                     wlen=window_len,\n",
        "                                                     hop_len=hop_len)\n",
        "\n",
        "np.save('soundscape_embedding_vectors.npy', soundscape_vectors)\n",
        "np.save('soundscape_spectrograms.npy', soundscape_spectrograms)"
      ],
      "metadata": {
        "id": "aMvhKXM6e37k"
      },
      "execution_count": null,
      "outputs": []
    },
    {
      "cell_type": "code",
      "source": [
        "soundscape_vectors_filtered = []\n",
        "soundscape_spectrograms_filtered = []\n",
        "\n",
        "step = 1\n",
        "hop_len = int(step*sr) # emulates an sliding window of 5 sec length and 1 sec step\n",
        "\n",
        "soundscape_vectors_filtered, soundscape_spectrograms_filtered = extract_embeddings('Mindu_Saguinus_bicolor_02.02.19-000_bandpass_filtered.wav',\n",
        "                                                     wlen=window_len,\n",
        "                                                     hop_len=hop_len)\n",
        "\n",
        "np.save('soundscape_embedding_vectors_filtered.npy', soundscape_vectors_filtered)\n",
        "np.save('soundscape_spectrograms_filtered.npy', soundscape_spectrograms_filtered)"
      ],
      "metadata": {
        "colab": {
          "base_uri": "https://localhost:8080/",
          "height": 49,
          "referenced_widgets": [
            "11a95f702dd64ee082db655510e42b35",
            "2a58556c748a467bbd975a5bf2b485a6",
            "da5a742345cd4696930719fc551a33c2",
            "1377c3fd4fc846c7b5792c160cc28ef0",
            "758dca60bfc84e3dae1801c63b437cb5",
            "9c2750fe84cc4c7a8f699da7f35c92e8",
            "48c32e6e5e7140648f3b32a5e7b88699",
            "a51a5e4d13d84a66b137af8cd0c88dfd",
            "e7851fe8ddcc4b61a0c17ac55f165b5b",
            "13c01afca497496ba5903d6d6bafee23",
            "f2df6b318e7445a4a1276d11529816a7"
          ]
        },
        "id": "B7NwTLTNYG_s",
        "outputId": "949f51eb-ab74-48e6-c71f-7e90b37b8aa4"
      },
      "execution_count": 7,
      "outputs": [
        {
          "output_type": "display_data",
          "data": {
            "text/plain": [
              "  0%|          | 0/564 [00:00<?, ?it/s]"
            ],
            "application/vnd.jupyter.widget-view+json": {
              "version_major": 2,
              "version_minor": 0,
              "model_id": "11a95f702dd64ee082db655510e42b35"
            }
          },
          "metadata": {}
        }
      ]
    },
    {
      "cell_type": "code",
      "source": [
        "anthrophony_vectors = []\n",
        "anthrophony_spectrograms = []\n",
        "\n",
        "step = 2\n",
        "hop_len = int(step*sr) # emulates an sliding window of 5 sec length and 1 sec step\n",
        "\n",
        "anthrophony_vectors, anthrophony_spectrograms = extract_embeddings('Anthrophony.wav',\n",
        "                                                     wlen=window_len,\n",
        "                                                     hop_len=hop_len)\n",
        "\n",
        "np.save('anthrophony_embedding_vectors.npy', anthrophony_vectors)\n",
        "np.save('anthrophony_spectrograms.npy', anthrophony_spectrograms)"
      ],
      "metadata": {
        "id": "2b0iAEKoQqMf"
      },
      "execution_count": null,
      "outputs": []
    },
    {
      "cell_type": "code",
      "source": [
        "geophony_vectors = []\n",
        "geophony_spectrograms = []\n",
        "\n",
        "step = 2\n",
        "hop_len = int(step*sr) # emulates an sliding window of 5 sec length and 1 sec step\n",
        "\n",
        "geophony_vectors, geophony_spectrograms = extract_embeddings('Geophony.wav',\n",
        "                                                     wlen=window_len,\n",
        "                                                     hop_len=hop_len)\n",
        "\n",
        "np.save('geophony_embedding_vectors.npy', geophony_vectors)\n",
        "np.save('geophony_spectrograms.npy', geophony_spectrograms)"
      ],
      "metadata": {
        "id": "7lxIKJ3CX_K1"
      },
      "execution_count": null,
      "outputs": []
    },
    {
      "cell_type": "markdown",
      "source": [
        "## Audio files for the Ocupancy model"
      ],
      "metadata": {
        "id": "iIBLVNOKVzf4"
      }
    },
    {
      "cell_type": "code",
      "source": [
        "os.makedirs(\"MinduPark\", exist_ok=True)  # cria se não existir\n",
        "\n",
        "step = 2\n",
        "hop_len = int(step*sr) # emulates an sliding window of 5 sec length and 1 sec step\n",
        "\n",
        "for i, file in enumerate(os.listdir('Parque do Mindú')):\n",
        "    MinduPark_vectors = []\n",
        "    MinduPark_spectrograms = []\n",
        "\n",
        "    MinduPark_vectors, MinduPark_spectrograms = extract_embeddings(\"Parque do Mindú/\"+file,\n",
        "                                                        wlen=window_len,\n",
        "                                                        hop_len=hop_len)\n",
        "\n",
        "    np.save('MinduPark/MinduPark_embedding_vectors_'+str(i)+'.npy', MinduPark_vectors)\n",
        "    # np.save('MinduPark/MinduPark_spectrograms_'+str(i)+'.npy', MinduPark_spectrograms)\n",
        "\n",
        "!zip -r MinduPark.zip MinduPark"
      ],
      "metadata": {
        "id": "gYc1IsuYUysm"
      },
      "execution_count": null,
      "outputs": []
    },
    {
      "cell_type": "code",
      "source": [
        "os.makedirs(\"MinduPark_38\", exist_ok=True)  # cria se não existir\n",
        "\n",
        "step = 1\n",
        "hop_len = int(step*sr) # emulates an sliding window of 5 sec length and 1 sec step\n",
        "\n",
        "for i, file in enumerate(os.listdir('Parque_do_Mindu_38/Parque do Mindú')):\n",
        "    MinduPark_vectors = []\n",
        "    MinduPark_spectrograms = []\n",
        "\n",
        "    MinduPark_vectors, MinduPark_spectrograms = extract_embeddings(\"Parque_do_Mindu_38/Parque do Mindú/\"+file,\n",
        "                                                        wlen=window_len,\n",
        "                                                        hop_len=hop_len)\n",
        "\n",
        "    np.save('MinduPark_38/MinduPark_embedding_vectors_'+str(i)+'.npy', MinduPark_vectors)\n",
        "\n",
        "!zip -r MinduPark_38.zip MinduPark_38"
      ],
      "metadata": {
        "id": "kRS40A3Fab7V"
      },
      "execution_count": null,
      "outputs": []
    },
    {
      "cell_type": "markdown",
      "source": [
        "Load labels, compute cosine distance matrix from embedding vectors, perform hierarchical clustering, and plot a dendrogram."
      ],
      "metadata": {
        "id": "dw6PIRa1i_71"
      }
    },
    {
      "cell_type": "code",
      "source": [
        "# 1. Load labels from CSV\n",
        "records = pd.read_csv('records.csv')  # adjust path if needed\n",
        "labels = records['Bosque_S.bicolor_12.4.19-000'].tolist()\n",
        "\n",
        "# Encode labels as integers\n",
        "le = LabelEncoder()\n",
        "encoded_labels = le.fit_transform(labels)\n",
        "\n",
        "# 2. Compute cosine distance matrix (condensed form)\n",
        "cosine_distances = pdist(sauim_embedding_vectors, metric='cosine')\n",
        "\n",
        "# 3. Perform hierarchical clustering\n",
        "Z = linkage(cosine_distances, method='ward')  # try 'ward', 'complete', etc.\n",
        "\n",
        "# 4. Plot dendrogram\n",
        "plt.figure(figsize=(20, 5))\n",
        "dendrogram(Z, labels=encoded_labels, leaf_font_size=10)\n",
        "plt.xlabel(\"Records segments with sauim vocalizations\")\n",
        "plt.ylabel(\"Cosine distances\")\n",
        "plt.tight_layout()\n",
        "plt.savefig(\"dendongram.pdf\", format='pdf', dpi=300, bbox_inches='tight')\n",
        "plt.show()\n"
      ],
      "metadata": {
        "id": "LP8Wp7qyumYH"
      },
      "execution_count": null,
      "outputs": []
    },
    {
      "cell_type": "code",
      "source": [
        "for i in zip(encoded_labels,labels):\n",
        "    print(i)"
      ],
      "metadata": {
        "id": "zGrT_E7C7z2b"
      },
      "execution_count": null,
      "outputs": []
    },
    {
      "cell_type": "code",
      "source": [],
      "metadata": {
        "id": "h10EQFQsLdZ6"
      },
      "execution_count": null,
      "outputs": []
    }
  ]
}