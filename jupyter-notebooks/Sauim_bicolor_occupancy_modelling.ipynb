{
  "cells": [
    {
      "cell_type": "markdown",
      "source": [
        "2012- Robert M Dorazio & J. Andrew Royle. Estimating Size and Composition of Biological Communities by Modeling the occurrence of Species.\n",
        "https://doi.org/10.1198/016214505000000015\n",
        "\n",
        "Zero-inflated model\n",
        "\n",
        "MacKenzie et al. 2006\n",
        "\n",
        "MacKenzie et al. 2002"
      ],
      "metadata": {
        "id": "-NMT6ojjDNlD"
      }
    },
    {
      "cell_type": "code",
      "source": [
        "import shutil\n",
        "import os\n",
        "import zipfile\n",
        "from joblib import dump, load\n",
        "import numpy as np\n",
        "from matplotlib import pyplot as plt\n",
        "from matplotlib.patches import Patch  # for legend patch\n",
        "from scipy.optimize import minimize_scalar\n",
        "from scipy.stats import norm, beta\n",
        "from scipy.stats import binom\n"
      ],
      "metadata": {
        "id": "eJDdUdOO8B_r"
      },
      "execution_count": 1,
      "outputs": []
    },
    {
      "cell_type": "code",
      "source": [
        "# Remove the directory and all its contents\n",
        "if os.path.exists('MinduPark'):\n",
        "    shutil.rmtree('MinduPark')\n",
        "    print(\"Folder 'MinduPark' removed.\")\n",
        "if os.path.exists('MinduPark_without_sauim'):\n",
        "    shutil.rmtree('MinduPark_without_sauim')\n",
        "    print(\"Folder 'MinduPark_without_sauim' removed.\")"
      ],
      "metadata": {
        "id": "vmzplud6tGG9"
      },
      "execution_count": 2,
      "outputs": []
    },
    {
      "cell_type": "markdown",
      "source": [
        "## Ocumpacy modeling"
      ],
      "metadata": {
        "id": "4n2bF-1Q2RcS"
      }
    },
    {
      "cell_type": "markdown",
      "metadata": {
        "id": "Eldke65Zhynt"
      },
      "source": [
        "Automatically download the necessary files"
      ]
    },
    {
      "cell_type": "code",
      "source": [
        "!wget https://github.com/juancolonna/Sauim/raw/main/MinduPark.zip -O MinduPark.zip\n",
        "!wget https://github.com/juancolonna/Sauim/raw/main/MinduPark_without_sauim.zip -O MinduPark_without_sauim.zip\n",
        "!wget https://github.com/juancolonna/Sauim/raw/main/ocsvm_filtered.joblib -O ocsvm_filtered.joblib"
      ],
      "metadata": {
        "id": "uohHR9HvB1YX",
        "colab": {
          "base_uri": "https://localhost:8080/"
        },
        "outputId": "54a3de54-efb3-4485-b853-139fa4a3b7ef"
      },
      "execution_count": 3,
      "outputs": [
        {
          "output_type": "stream",
          "name": "stdout",
          "text": [
            "--2025-09-16 22:16:22--  https://github.com/juancolonna/Sauim/raw/main/MinduPark.zip\n",
            "Resolving github.com (github.com)... 140.82.116.4\n",
            "Connecting to github.com (github.com)|140.82.116.4|:443... connected.\n",
            "HTTP request sent, awaiting response... 302 Found\n",
            "Location: https://media.githubusercontent.com/media/juancolonna/Sauim/main/MinduPark.zip [following]\n",
            "--2025-09-16 22:16:22--  https://media.githubusercontent.com/media/juancolonna/Sauim/main/MinduPark.zip\n",
            "Resolving media.githubusercontent.com (media.githubusercontent.com)... 185.199.108.133, 185.199.109.133, 185.199.110.133, ...\n",
            "Connecting to media.githubusercontent.com (media.githubusercontent.com)|185.199.108.133|:443... connected.\n",
            "HTTP request sent, awaiting response... 200 OK\n",
            "Length: 42146012 (40M) [application/zip]\n",
            "Saving to: ‘MinduPark.zip’\n",
            "\n",
            "MinduPark.zip       100%[===================>]  40.19M  31.1MB/s    in 1.3s    \n",
            "\n",
            "2025-09-16 22:16:24 (31.1 MB/s) - ‘MinduPark.zip’ saved [42146012/42146012]\n",
            "\n",
            "--2025-09-16 22:16:24--  https://github.com/juancolonna/Sauim/raw/main/MinduPark_without_sauim.zip\n",
            "Resolving github.com (github.com)... 140.82.116.4\n",
            "Connecting to github.com (github.com)|140.82.116.4|:443... connected.\n",
            "HTTP request sent, awaiting response... 302 Found\n",
            "Location: https://media.githubusercontent.com/media/juancolonna/Sauim/main/MinduPark_without_sauim.zip [following]\n",
            "--2025-09-16 22:16:24--  https://media.githubusercontent.com/media/juancolonna/Sauim/main/MinduPark_without_sauim.zip\n",
            "Resolving media.githubusercontent.com (media.githubusercontent.com)... 185.199.108.133, 185.199.109.133, 185.199.110.133, ...\n",
            "Connecting to media.githubusercontent.com (media.githubusercontent.com)|185.199.108.133|:443... connected.\n",
            "HTTP request sent, awaiting response... 200 OK\n",
            "Length: 32659512 (31M) [application/zip]\n",
            "Saving to: ‘MinduPark_without_sauim.zip’\n",
            "\n",
            "MinduPark_without_s 100%[===================>]  31.15M  60.0MB/s    in 0.5s    \n",
            "\n",
            "2025-09-16 22:16:25 (60.0 MB/s) - ‘MinduPark_without_sauim.zip’ saved [32659512/32659512]\n",
            "\n",
            "--2025-09-16 22:16:25--  https://github.com/juancolonna/Sauim/raw/main/ocsvm_filtered.joblib\n",
            "Resolving github.com (github.com)... 140.82.116.4\n",
            "Connecting to github.com (github.com)|140.82.116.4|:443... connected.\n",
            "HTTP request sent, awaiting response... 302 Found\n",
            "Location: https://raw.githubusercontent.com/juancolonna/Sauim/main/ocsvm_filtered.joblib [following]\n",
            "--2025-09-16 22:16:26--  https://raw.githubusercontent.com/juancolonna/Sauim/main/ocsvm_filtered.joblib\n",
            "Resolving raw.githubusercontent.com (raw.githubusercontent.com)... 185.199.109.133, 185.199.110.133, 185.199.108.133, ...\n",
            "Connecting to raw.githubusercontent.com (raw.githubusercontent.com)|185.199.109.133|:443... connected.\n",
            "HTTP request sent, awaiting response... 200 OK\n",
            "Length: 73215 (71K) [application/octet-stream]\n",
            "Saving to: ‘ocsvm_filtered.joblib’\n",
            "\n",
            "ocsvm_filtered.jobl 100%[===================>]  71.50K  --.-KB/s    in 0.02s   \n",
            "\n",
            "2025-09-16 22:16:26 (4.17 MB/s) - ‘ocsvm_filtered.joblib’ saved [73215/73215]\n",
            "\n"
          ]
        }
      ]
    },
    {
      "cell_type": "code",
      "source": [
        "# Open and extract files\n",
        "with zipfile.ZipFile('MinduPark.zip', 'r') as zip_ref:\n",
        "    zip_ref.extractall('.')\n",
        "\n",
        "with zipfile.ZipFile('MinduPark_without_sauim.zip', 'r') as zip_ref:\n",
        "    zip_ref.extractall('.')\n",
        "\n",
        "print(f'Files extracted')"
      ],
      "metadata": {
        "id": "MNKAXX6TPe7p",
        "colab": {
          "base_uri": "https://localhost:8080/"
        },
        "outputId": "d5f04ba0-fdb3-44e2-817d-78b1a0dd50b2"
      },
      "execution_count": 4,
      "outputs": [
        {
          "output_type": "stream",
          "name": "stdout",
          "text": [
            "Files extracted\n"
          ]
        }
      ]
    },
    {
      "cell_type": "code",
      "source": [
        "clf = load(\"ocsvm_filtered.joblib\")"
      ],
      "metadata": {
        "id": "KMW550l9s_tW"
      },
      "execution_count": 5,
      "outputs": []
    },
    {
      "cell_type": "markdown",
      "source": [
        "Semples monitoring with Sauim occurrences"
      ],
      "metadata": {
        "id": "h4vXcVURPsKp"
      }
    },
    {
      "cell_type": "code",
      "source": [
        "y = []\n",
        "T = []\n",
        "detections_per_record = []\n",
        "\n",
        "for i in range(8):\n",
        "    MinduPark_embedding_vectors = np.load(\"MinduPark/MinduPark_vectors_filtered_\"+str(i)+\".npy\")\n",
        "    decision_scores = clf.decision_function(MinduPark_embedding_vectors)\n",
        "    MinduPark_preds = np.where(decision_scores >= 0, 1, 0)\n",
        "    y.append(np.sum(MinduPark_preds == 1))\n",
        "    T.append(len(MinduPark_preds))\n",
        "    detections_per_record.append(MinduPark_preds)\n",
        "\n",
        "y = np.array(y, dtype=int)\n",
        "T = np.array(T, dtype=int)\n",
        "print(y) # How many detections per record\n",
        "print(T) # How many segments per record"
      ],
      "metadata": {
        "id": "p-mC1xbBevrE",
        "colab": {
          "base_uri": "https://localhost:8080/"
        },
        "outputId": "f23ccc9e-1c4c-4807-fed1-d33c1f70e282"
      },
      "execution_count": 6,
      "outputs": [
        {
          "output_type": "stream",
          "name": "stdout",
          "text": [
            "[ 51   0   0  10 261  55  54 112]\n",
            "[ 757  149  109  309 1036  360  419 1320]\n"
          ]
        }
      ]
    },
    {
      "cell_type": "code",
      "source": [
        "detections = int(np.sum(y > 0))\n",
        "detections"
      ],
      "metadata": {
        "id": "XTEhfjzKScqx",
        "colab": {
          "base_uri": "https://localhost:8080/"
        },
        "outputId": "63d3ef0e-f402-483e-8694-705538f3d769"
      },
      "execution_count": 7,
      "outputs": [
        {
          "output_type": "execute_result",
          "data": {
            "text/plain": [
              "6"
            ]
          },
          "metadata": {},
          "execution_count": 7
        }
      ]
    },
    {
      "cell_type": "code",
      "source": [
        "k = np.where(y>0, 1, 0)\n",
        "K = np.ones(len(k), dtype=int)\n",
        "eps = 1e-10\n",
        "\n",
        "def loglike(p11):\n",
        "    if p11 <= 0 or p11 >= 1:\n",
        "        return -np.inf\n",
        "    return float(binom.logpmf(k, K, p11).sum())\n",
        "\n",
        "# MLE numérico (deve coincidir com a forma fechada)\n",
        "res = minimize_scalar(lambda p11: -loglike(p11),\n",
        "                      bounds=(eps, 1.0 - eps),\n",
        "                      method=\"bounded\")\n",
        "\n",
        "print(\"p11^ (numérico):\", res.x)\n",
        "print(\"logLik no ótimo:\", -res.fun)"
      ],
      "metadata": {
        "colab": {
          "base_uri": "https://localhost:8080/"
        },
        "id": "v8kzVd5aE53t",
        "outputId": "4fa14f62-7ac5-4aad-abfe-93367d1e83e6"
      },
      "execution_count": 25,
      "outputs": [
        {
          "output_type": "stream",
          "name": "stdout",
          "text": [
            "p11^ (numérico): 0.2500000880971082\n",
            "logLik no ótimo: -4.498681156950633\n"
          ]
        }
      ]
    },
    {
      "cell_type": "code",
      "source": [
        "p01 = 1-res.x\n",
        "p01"
      ],
      "metadata": {
        "colab": {
          "base_uri": "https://localhost:8080/"
        },
        "id": "SXFiaslyQcCg",
        "outputId": "26d3d890-47c8-4209-edad-2e63e4bd32f5"
      },
      "execution_count": 10,
      "outputs": [
        {
          "output_type": "execute_result",
          "data": {
            "text/plain": [
              "np.float64(0.2500000880968445)"
            ]
          },
          "metadata": {},
          "execution_count": 10
        }
      ]
    },
    {
      "cell_type": "code",
      "source": [
        "p01_hi"
      ],
      "metadata": {
        "colab": {
          "base_uri": "https://localhost:8080/"
        },
        "id": "7e5OuiyypEws",
        "outputId": "ddd1c7df-d68b-4e20-cf9e-06682299d727"
      },
      "execution_count": 21,
      "outputs": [
        {
          "output_type": "execute_result",
          "data": {
            "text/plain": [
              "[np.float64(1.0),\n",
              " np.float64(0.9919268446193276),\n",
              " np.float64(0.9030930388097743),\n",
              " np.float64(0.7961625905806612),\n",
              " np.float64(0.6767766952966369),\n",
              " np.float64(0.54616415428267),\n",
              " np.float64(0.40309321500351164),\n",
              " np.float64(0.24192665783888723),\n",
              " np.float64(0.0008691544556340433)]"
            ]
          },
          "metadata": {},
          "execution_count": 21
        }
      ]
    },
    {
      "cell_type": "code",
      "source": [
        "from scipy.stats import norm\n",
        "\n",
        "K = len(y)\n",
        "mle_p11 = []\n",
        "mle_p01 = []\n",
        "logLike = []\n",
        "p01_lo = []   # SE-based lower band for w\n",
        "p01_hi = []   # SE-based upper band for w\n",
        "\n",
        "eps = 1e-12\n",
        "\n",
        "for k in range(len(y)+1):\n",
        "    def loglike(p11):\n",
        "        if p11 <= 0 or p11 >= 1:\n",
        "            return -np.inf\n",
        "        return float(binom.logpmf(k, K, p11).sum())\n",
        "\n",
        "    res = minimize_scalar(lambda p11: -loglike(p11), bounds=(0,1), method=\"bounded\")\n",
        "    p11_hat_k = res.x\n",
        "    p01_hat_k = 1-p11_hat_k\n",
        "    mle_p11.append(p11_hat_k)\n",
        "    mle_p01.append(p01_hat_k)\n",
        "    logLike.append(-res.fun)\n",
        "\n",
        "    se_k = np.sqrt(p01_hat_k*(1-p01_hat_k)/K)\n",
        "\n",
        "    lo = np.clip(p01_hat_k - se_k, 0.0, 1.0)\n",
        "    hi = np.clip(p01_hat_k + se_k, 0.0, 1.0)\n",
        "\n",
        "    p01_lo.append(lo)\n",
        "    p01_hi.append(hi)\n",
        "\n",
        "detections = int(np.sum(y > 0))\n",
        "\n",
        "# --- plotting (unchanged except labels) ---\n",
        "fig, ax1 = plt.subplots()\n",
        "x = np.arange(len(mle_p01))\n",
        "\n",
        "l1, = ax1.plot(x, mle_p01, label=\"$p_{01}$ (MLE)\")\n",
        "ax1.set_ylabel(\"$p_{01}$ (MLE)\", color=\"blue\", fontsize=14)\n",
        "ax1.set_ylim(-0.01, 1.01)\n",
        "\n",
        "band = ax1.fill_between(x, p01_lo, p01_hi, alpha=0.2, color=l1.get_color())\n",
        "se_patch = Patch(facecolor=l1.get_color(), alpha=0.2, label=f\"±SE\")\n",
        "\n",
        "y_hat_at_det = mle_p01[detections]\n",
        "lo_at_det = p01_lo[detections]\n",
        "hi_at_det = p01_hi[detections]\n",
        "yerr_det = np.array([[y_hat_at_det - lo_at_det], [hi_at_det - y_hat_at_det]])\n",
        "eb = ax1.errorbar([detections], [y_hat_at_det], yerr=yerr_det, fmt='o', color='black',\n",
        "                  capsize=3, label=\"detections\")\n",
        "\n",
        "ax2 = ax1.twinx()\n",
        "l2, = ax2.plot(x, logLike, label=\"log-like\", color=\"red\", linestyle=\"--\")\n",
        "ax2.set_ylabel(\"log-likelihood\", color=\"red\", fontsize=14)\n",
        "\n",
        "ax1.set_xlabel(\"Number of detections\", fontsize=14)\n",
        "lines = [l1, se_patch, l2, eb]\n",
        "labels = [ln.get_label() for ln in lines]\n",
        "ax1.legend(lines, labels, loc=\"lower left\")\n",
        "\n",
        "# tamanho dos números dos eixos (tiques)\n",
        "ax1.tick_params(axis='both', labelsize=14)  # x e y do ax1\n",
        "ax2.tick_params(axis='y', labelsize=14)     # y do ax2 (direita)\n",
        "\n",
        "fig.tight_layout()\n",
        "ax1.grid(True, axis='y', which='both')\n",
        "ax2.grid(False)\n",
        "ax2.patch.set_visible(False)\n",
        "ax1.set_axisbelow(True)\n",
        "\n",
        "plt.savefig(\"likelihood_p01.pdf\", format='pdf', dpi=300, bbox_inches='tight')\n",
        "plt.show()\n"
      ],
      "metadata": {
        "id": "Am1gmDKvdItq",
        "colab": {
          "base_uri": "https://localhost:8080/",
          "height": 486
        },
        "outputId": "4e65a848-769f-43be-f120-e1f9df67338d"
      },
      "execution_count": 24,
      "outputs": [
        {
          "output_type": "display_data",
          "data": {
            "text/plain": [
              "<Figure size 640x480 with 2 Axes>"
            ],
            "image/png": "[encoded data removed]"
          },
          "metadata": {}
        }
      ]
    }
  ],
  "metadata": {
    "colab": {
      "provenance": []
    },
    "kernelspec": {
      "display_name": "Python 3",
      "name": "python3"
    },
    "language_info": {
      "name": "python"
    }
  },
  "nbformat": 4,
  "nbformat_minor": 0
}