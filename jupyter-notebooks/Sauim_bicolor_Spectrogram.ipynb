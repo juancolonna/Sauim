{
  "cells": [
    {
      "cell_type": "code",
      "execution_count": 1,
      "metadata": {
        "id": "RXBASefWBZUK"
      },
      "outputs": [],
      "source": [
        "import librosa\n",
        "import gdown\n",
        "import os\n",
        "from matplotlib import pyplot as plt\n",
        "import numpy as np"
      ]
    },
    {
      "cell_type": "markdown",
      "metadata": {
        "id": "Eldke65Zhynt"
      },
      "source": [
        "Automatically download the necessary files"
      ]
    },
    {
      "cell_type": "code",
      "execution_count": 2,
      "metadata": {
        "colab": {
          "base_uri": "https://localhost:8080/"
        },
        "id": "4gqaoqBSlxA_",
        "outputId": "b01dc919-9da5-451e-fec5-3d3da3a418a5"
      },
      "outputs": [
        {
          "output_type": "stream",
          "name": "stderr",
          "text": [
            "Downloading...\n",
            "From: https://drive.google.com/uc?id=1WejtpTp84yjAZuqcTBFQf4dX7a6yx3vX\n",
            "To: /content/Sauim.wav\n",
            "100%|██████████| 38.1M/38.1M [00:01<00:00, 27.7MB/s]\n"
          ]
        }
      ],
      "source": [
        "extraction_path = '/content'\n",
        "\n",
        "file_id = '1WejtpTp84yjAZuqcTBFQf4dX7a6yx3vX'\n",
        "if not os.path.exists(os.path.join(extraction_path, 'Sauim.wav')):\n",
        "    gdown.download(id=file_id, output='Sauim.wav', quiet=False)"
      ]
    },
    {
      "cell_type": "code",
      "execution_count": 14,
      "metadata": {
        "id": "Pm-F9SsRr3ZC"
      },
      "outputs": [],
      "source": [
        "sr = 32000\n",
        "window_len = int(5*sr)\n",
        "\n",
        "y, sr = librosa.load('Sauim.wav', sr=sr)\n",
        "y = y / np.max(np.abs(y))"
      ]
    },
    {
      "cell_type": "code",
      "execution_count": null,
      "metadata": {
        "id": "FdC45_Ue-Sbe"
      },
      "outputs": [],
      "source": [
        "# Loop to generate one spectrogram at a time\n",
        "for i, s in enumerate(range(0,len(y-window_len),window_len)):\n",
        "    # Extract the current audio segment of length `window_len`\n",
        "    y_seg = y[s:s+window_len]\n",
        "\n",
        "    # Compute the Short-Time Fourier Transform (STFT)\n",
        "    S = np.abs(librosa.stft(y_seg, n_fft=2048, hop_length=256))\n",
        "    S_db = librosa.amplitude_to_db(S, ref=np.max) # Convert amplitude to decibels\n",
        "\n",
        "    # Create a new figure for each spectrogram\n",
        "    plt.figure(figsize=(10, 3), dpi=100)\n",
        "    librosa.display.specshow(S_db, sr=sr, hop_length=256,\n",
        "                             x_axis='time', y_axis='hz', cmap='magma')\n",
        "     # plt.colorbar(format='%+2.0f dB')  # Optional colorbar for amplitude scale\n",
        "    plt.tight_layout()\n",
        "    plt.show()\n",
        ""
      ]
    },
    {
      "cell_type": "code",
      "execution_count": null,
      "metadata": {
        "id": "SUBit2CeR5Xa"
      },
      "outputs": [],
      "source": []
    }
  ],
  "metadata": {
    "colab": {
      "provenance": []
    },
    "kernelspec": {
      "display_name": "Python 3",
      "name": "python3"
    },
    "language_info": {
      "name": "python"
    }
  },
  "nbformat": 4,
  "nbformat_minor": 0
}