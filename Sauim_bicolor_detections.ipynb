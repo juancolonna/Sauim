{
  "cells": [
    {
      "cell_type": "code",
      "source": [
        "import shutil\n",
        "import os\n",
        "\n",
        "# Remove the directory and all its contents\n",
        "if os.path.exists('embedding_vectors'):\n",
        "    shutil.rmtree('embedding_vectors')\n",
        "    print(\"Folder 'embedding_vectors' removed.\")\n",
        "else:\n",
        "    print(\"Folder 'embedding_vectors' does not exist.\")"
      ],
      "metadata": {
        "id": "eJDdUdOO8B_r"
      },
      "execution_count": null,
      "outputs": []
    },
    {
      "cell_type": "code",
      "execution_count": null,
      "metadata": {
        "id": "RXBASefWBZUK"
      },
      "outputs": [],
      "source": [
        "import csv\n",
        "import pandas as pd\n",
        "import librosa\n",
        "import zipfile\n",
        "import scipy\n",
        "from scipy import signal\n",
        "from scipy.io import wavfile\n",
        "from joblib import dump, load\n",
        "from sklearn.metrics import (make_scorer, f1_score, accuracy_score, confusion_matrix,\n",
        "                             roc_auc_score, roc_curve, auc, precision_score,\n",
        "                             recall_score, average_precision_score, precision_recall_curve)\n",
        "import seaborn as sns\n",
        "from tqdm.notebook import trange, tqdm\n",
        "from matplotlib import pyplot as plt\n",
        "import numpy as np"
      ]
    },
    {
      "cell_type": "markdown",
      "metadata": {
        "id": "2d3oxrg1mlIJ"
      },
      "source": [
        "Auxiliar functions\n"
      ]
    },
    {
      "cell_type": "code",
      "execution_count": null,
      "metadata": {
        "id": "7Hlopgrd4rPJ"
      },
      "outputs": [],
      "source": [
        "def metrics_calculation(y_test, y_pred, decision_scores, label=\"Anomaly\"):\n",
        "\n",
        "    # print(f\"True Labels (0=label, 1=Sauim):\\n{y_test}\")\n",
        "    # print(f\"Predicted Labels (0=label, 1=Sauim):\\n{y_pred}\")\n",
        "\n",
        "    # Confusion Matrix\n",
        "    cm = confusion_matrix(y_test, y_pred)\n",
        "\n",
        "    # Plot Confusion Matrix\n",
        "    plt.figure(figsize=(4.2, 4))\n",
        "    sns.heatmap(cm, annot=True, fmt='d', cmap='Blues', annot_kws={\"size\": 18},  cbar=False,\n",
        "                xticklabels=[label, 'Sauim'], yticklabels=[label, 'Sauim'])\n",
        "    # plt.ylabel('Actual Label', fontsize=18)\n",
        "    # plt.xlabel('Predicted Label', fontsize=18)\n",
        "    plt.xticks(fontsize=16)\n",
        "    plt.yticks(fontsize=16)  # rotation=0 keeps them horizontal\n",
        "    # plt.title(label, fontsize=20)\n",
        "    plt.savefig(\"ConfusionMatrix_\"+label+\".pdf\", format='pdf', dpi=300, bbox_inches='tight')\n",
        "    plt.show()\n",
        "\n",
        "    accuracy = accuracy_score(y_test, y_pred) # Accuracy (may be misleading with imbalanced data)\n",
        "    f1 = f1_score(y_test, y_pred, pos_label=1, average='weighted') # F1-score for the 'sauim' class (positive class)\n",
        "\n",
        "    # Precision and Recall\n",
        "    precision = precision_score(y_test, y_pred, pos_label=1)\n",
        "    recall = recall_score(y_test, y_pred, pos_label=1)\n",
        "    # ROC AUC Curve (useful if you want to choose a threshold based on decision_function)\n",
        "    # For ROC AUC, 1 represents the positive class (sauim)\n",
        "    fpr, tpr, thresholds = roc_curve(y_test, decision_scores, pos_label=1)\n",
        "    roc_auc = auc(fpr, tpr)\n",
        "\n",
        "    print(f\"Acc: {accuracy:.2f}, Prec: {precision:.2f}, Rec: {recall:.2f}, F1: {f1:.2f}, roc_auc: {roc_auc:.2f}\")\n",
        "    return fpr, tpr, roc_auc, cm"
      ]
    },
    {
      "cell_type": "markdown",
      "source": [
        "## Loand an unknow soundscape"
      ],
      "metadata": {
        "id": "jNq3XiIyIXlW"
      }
    },
    {
      "cell_type": "code",
      "source": [
        "!wget https://github.com/juancolonna/Sauim/raw/main/embedding_vectors.zip -O embedding_vectors.zip\n",
        "\n",
        "# Open and extract files\n",
        "with zipfile.ZipFile('embedding_vectors.zip', 'r') as zip_ref:\n",
        "    zip_ref.extractall('.')\n",
        "\n",
        "print(f'Files extracted')\n",
        "\n",
        "soundscape_vectors = np.load('embedding_vectors/soundscape_vectors.npy')\n",
        "soundscape_vectors_filtered = np.load('embedding_vectors/soundscape_vectors_filtered.npy')"
      ],
      "metadata": {
        "id": "k6sNxF9gHwe8"
      },
      "execution_count": null,
      "outputs": []
    },
    {
      "cell_type": "markdown",
      "source": [
        "## Load wav records"
      ],
      "metadata": {
        "id": "TIhOLlcPIk0O"
      }
    },
    {
      "cell_type": "code",
      "source": [
        "!wget https://github.com/juancolonna/Sauim/raw/main/ocsvm.joblib -O ocsvm.joblib\n",
        "!wget https://github.com/juancolonna/Sauim/raw/main/ocsvm_filtered.joblib -O ocsvm_filtered.joblib\n",
        "!wget https://github.com/juancolonna/Sauim/raw/main/records/Mindu_Saguinus%20bicolor_02.02.19-000.csv -O Mindu_Saguinus_bicolor_02.02.19-000.csv\n",
        "!wget https://github.com/juancolonna/Sauim/raw/main/records/Mindu_Saguinus%20bicolor_02.02.19-000.wav -O Mindu_Saguinus_bicolor_02.02.19-000.wav\n",
        "!wget https://github.com/juancolonna/Sauim/raw/main/records/Mindu_Saguinus_bicolor_02.02.19-000_filtered.wav -O Mindu_Saguinus_bicolor_02.02.19-000_filtered.wav\n",
        "\n",
        "df = pd.read_csv('Mindu_Saguinus_bicolor_02.02.19-000.csv')"
      ],
      "metadata": {
        "id": "Wp70QF85bjnC"
      },
      "execution_count": null,
      "outputs": []
    },
    {
      "cell_type": "markdown",
      "source": [
        "## Load fitted OCSVM model"
      ],
      "metadata": {
        "id": "XtuEUY-QHHZ3"
      }
    },
    {
      "cell_type": "code",
      "execution_count": null,
      "metadata": {
        "id": "Pm-F9SsRr3ZC"
      },
      "outputs": [],
      "source": [
        "clf = load(\"ocsvm.joblib\")\n",
        "\n",
        "sr = 32000\n",
        "window_len = int(5*sr)\n",
        "step = 1\n",
        "hop_len = int(step*sr) # emulates an sliding window of 5 sec length and 1 sec step\n",
        "\n",
        "y, sr = librosa.load('Mindu_Saguinus_bicolor_02.02.19-000.wav', sr=sr)\n",
        "y = y / np.max(np.abs(y))\n",
        "\n",
        "# 1. Distância da função de decisão (positiva = normal, negativa = anomalia)\n",
        "decision_scores = clf.decision_function(soundscape_vectors)\n",
        "\n",
        "# adjust this line, the threshold should be 0 if we not used the filtered version, otherwise -0.01\n",
        "soundscape_preds = np.where(decision_scores >= 0.0, 1, 0)\n",
        "\n",
        "print(f\"Total detections: {np.sum(soundscape_preds == 1)}\")\n",
        "print(f\"Confidence range: {decision_scores.min():.3f} to {decision_scores.max():.3f}\")\n",
        "\n",
        "preds_expanded = np.zeros(len(y), dtype=int)\n",
        "\n",
        "for i, pred in enumerate(soundscape_preds):\n",
        "    if pred == 0:\n",
        "        continue  # skip negatives\n",
        "    start = i * hop_len\n",
        "    end = start + window_len\n",
        "    if start > len(y-window_len):\n",
        "        break\n",
        "    preds_expanded[start:min(end, len(y))] = 1\n",
        "\n",
        "len(preds_expanded)\n",
        "\n",
        "window_init_time = np.array(range(0, soundscape_vectors.shape[0], int(hop_len/sr)))\n",
        "\n",
        "manual_annotations = np.zeros(len(soundscape_preds))\n",
        "for t in enumerate(df['TIME'].values):\n",
        "    for i in range(len(window_init_time)):\n",
        "        # simulating a window with 50% overlap\n",
        "        if window_init_time[i]-2.5 < t[1] < window_init_time[i]+2.5:\n",
        "            manual_annotations[i] = 1\n",
        "\n",
        "fpr6, tpr6, roc_auc_detections, cm6 = metrics_calculation(manual_annotations, soundscape_preds, decision_scores, label=\"Background\")\n",
        "\n",
        "plt.figure(figsize=(5.4, 5))\n",
        "plt.plot(fpr6, tpr6, lw=1.5, label='Detections (AUC = %0.2f)' % roc_auc_detections)\n",
        "plt.plot([0, 1], [0, 1], color='navy', lw=1.5, linestyle='--')\n",
        "plt.xlim([-0.01, 1.0])\n",
        "plt.ylim([0.0, 1.01])\n",
        "plt.legend(loc=\"lower right\", fontsize=10)\n",
        "plt.ylabel('True Positive Rate', fontsize=12)\n",
        "plt.xlabel('False Positive Rate', fontsize=12)\n",
        "plt.xticks(fontsize=12)\n",
        "plt.yticks(fontsize=12)  # rotation=0 keeps them horizontal\n",
        "plt.grid(True, linestyle='--', alpha=0.7)\n",
        "plt.savefig(\"ROC_curve_detections.pdf\", format='pdf', dpi=300, bbox_inches='tight')\n",
        "plt.show()"
      ]
    },
    {
      "cell_type": "code",
      "execution_count": null,
      "metadata": {
        "id": "LUV0ebc0BooK"
      },
      "outputs": [],
      "source": [
        "print(\"Decision function stats:\")\n",
        "print(f\"min: {decision_scores.min():.4f}\")\n",
        "print(f\"max: {decision_scores.max():.4f}\")\n",
        "print(f\"mean: {decision_scores.mean():.4f}\")\n",
        "\n",
        "plt.figure(figsize=(6, 5))\n",
        "plt.hist(decision_scores, bins=100)\n",
        "plt.vlines(0, 0, 18, linestyles='dashed', colors='red', label='Decision threshold')\n",
        "# plt.title(\"Distribution of One-Class SVM decision scores\")\n",
        "plt.xlabel(\"Decision scores\", fontsize=12)\n",
        "plt.ylabel(\"Count\", fontsize=12)\n",
        "plt.grid(True, linestyle='--', alpha=0.7)\n",
        "plt.legend(loc=\"upper left\", fontsize=10)\n",
        "plt.xticks(fontsize=12)\n",
        "plt.yticks(fontsize=12)  # rotation=0 keeps them horizontal\n",
        "plt.savefig(\"decision_scores.pdf\", format='pdf', dpi=300, bbox_inches='tight')\n",
        "plt.show()"
      ]
    },
    {
      "cell_type": "code",
      "execution_count": null,
      "metadata": {
        "id": "o-Q4te_o1Lru"
      },
      "outputs": [],
      "source": [
        "# Converte índice para segundos\n",
        "time = np.arange(len(y)) / sr\n",
        "\n",
        "plt.figure(figsize=(23, 4))\n",
        "plt.plot(time, y)\n",
        "plt.plot(time, preds_expanded, 'r')\n",
        "for t in df['TIME'].values:\n",
        "    plt.axvline(x=t, color='black', linestyle='--')\n",
        "\n",
        "plt.xlim([0, 325])\n",
        "# plt.xlim([0, np.max(time)])\n",
        "plt.ylim([-1, 1.05])\n",
        "plt.grid(False)\n",
        "plt.xlabel(\"Time (seconds)\", fontsize=16)\n",
        "plt.ylabel(\"Amplitude\", fontsize=16)\n",
        "plt.legend([\"Sinal\", \"Detection\", \"Annotations\"], loc='lower left', fontsize=14)\n",
        "plt.xticks(fontsize=14)\n",
        "plt.yticks(fontsize=14)\n",
        "plt.savefig(\"detections.pdf\", format='pdf', dpi=300, bbox_inches='tight')\n",
        "plt.show()"
      ]
    },
    {
      "cell_type": "code",
      "execution_count": null,
      "metadata": {
        "id": "FdC45_Ue-Sbe"
      },
      "outputs": [],
      "source": [
        "def find_segments(binary):\n",
        "    \"\"\"\n",
        "    Retorna lista de (start, end) em amostras\n",
        "    onde binary == 1.\n",
        "    \"\"\"\n",
        "    b = np.asarray(binary).astype(int)\n",
        "    if b.sum() == 0:\n",
        "        return []\n",
        "\n",
        "    diff = np.diff(np.concatenate([[0], b, [0]]))\n",
        "    starts = np.where(diff == 1)[0]\n",
        "    ends = np.where(diff == -1)[0]\n",
        "\n",
        "    return list(zip(starts, ends))\n",
        "\n",
        "# encontra segmentos (sem filtro de duração)\n",
        "segments = find_segments(preds_expanded)\n",
        "\n",
        "print(f\"Found {len(segments)} segments\")\n",
        "\n",
        "# Loop para gerar um espectrograma por vez\n",
        "for i, (s, e) in enumerate(segments):\n",
        "    y_seg = y[s:e]\n",
        "\n",
        "    # índice da predição correspondente (janela que começa em s)\n",
        "    pred_index = s // hop_len\n",
        "    conf = decision_scores[pred_index] if pred_index < len(decision_scores) else None\n",
        "\n",
        "    # STFT\n",
        "    S = np.abs(librosa.stft(y_seg, n_fft=2048, hop_length=256))\n",
        "    S_db = librosa.amplitude_to_db(S, ref=np.max)\n",
        "\n",
        "    # Nova figura para cada espectrograma\n",
        "    plt.figure(figsize=(10, 3), dpi=200)\n",
        "    librosa.display.specshow(S_db, sr=sr, hop_length=256,\n",
        "                             x_axis='time', y_axis='hz', cmap='magma')\n",
        "    # plt.colorbar(format='%+2.0f dB')\n",
        "\n",
        "    # # título com confiança\n",
        "    # if conf is not None:\n",
        "    #     title = f\"Segment {i+1}: {s/sr:.1f}-{e/sr:.1f}s(p10 ** y) * ((1 - p10) ** (T - y)) | decision score: {conf:.4f}\"\n",
        "    # else:\n",
        "    #     title = f\"Segment {i+1}: {s/sr:.1f}-{e/sr:.1f}s\"\n",
        "\n",
        "    # plt.title(title)\n",
        "    plt.tight_layout()\n",
        "    plt.show()"
      ]
    },
    {
      "cell_type": "code",
      "source": [
        "clf = load(\"ocsvm_filtered.joblib\")\n",
        "\n",
        "y, sr = librosa.load('Mindu_Saguinus_bicolor_02.02.19-000_filtered.wav', sr=sr)\n",
        "y = y / np.max(np.abs(y))\n",
        "\n",
        "# 1. Distância da função de decisão (positiva = normal, negativa = anomalia)\n",
        "decision_scores_filtered = clf.decision_function(soundscape_vectors_filtered)\n",
        "\n",
        "# adjust this line, the threshold should be 0 if we not used the filtered version, otherwise -0.01\n",
        "soundscape_preds_filtered = np.where(decision_scores_filtered >= 0.0, 1, 0)\n",
        "\n",
        "print(f\"Total detections: {np.sum(soundscape_preds_filtered == 1)}\")\n",
        "print(f\"Confidence range: {decision_scores_filtered.min():.3f} to {decision_scores_filtered.max():.3f}\")\n",
        "\n",
        "preds_expanded_filtered = np.zeros(len(y), dtype=int)\n",
        "\n",
        "for i, pred in enumerate(soundscape_preds_filtered):\n",
        "    if pred == 0:\n",
        "        continue  # skip negatives\n",
        "    start = i * hop_len\n",
        "    end = start + window_len\n",
        "    if start > len(y-window_len):\n",
        "        break\n",
        "    preds_expanded_filtered[start:min(end, len(y))] = 1\n",
        "\n",
        "len(preds_expanded_filtered)\n",
        "\n",
        "window_init_time = np.array(range(0, soundscape_vectors_filtered.shape[0], int(hop_len/sr)))\n",
        "\n",
        "manual_annotations = np.zeros(len(soundscape_preds_filtered))\n",
        "for t in enumerate(df['TIME'].values):\n",
        "    for i in range(len(window_init_time)):\n",
        "        # simulating a window with 50% overlap\n",
        "        if window_init_time[i]-2.5 < t[1] < window_init_time[i]+2.5:\n",
        "            manual_annotations[i] = 1\n",
        "\n",
        "fpr7, tpr7, roc_auc_detections_filtered, cm7 = metrics_calculation(manual_annotations,\n",
        "                                                                   soundscape_preds_filtered,\n",
        "                                                                   decision_scores_filtered,\n",
        "                                                                   label=\"Background\")\n",
        "\n",
        "plt.figure(figsize=(5.4, 5))\n",
        "plt.plot(fpr7, tpr7, lw=1.5, label='Detections (AUC = %0.2f)' % roc_auc_detections_filtered)\n",
        "plt.plot([0, 1], [0, 1], color='navy', lw=1.5, linestyle='--')\n",
        "plt.xlim([-0.01, 1.0])\n",
        "plt.ylim([0.0, 1.01])\n",
        "plt.legend(loc=\"lower right\", fontsize=10)\n",
        "plt.ylabel('True Positive Rate', fontsize=12)\n",
        "plt.xlabel('False Positive Rate', fontsize=12)\n",
        "plt.xticks(fontsize=12)\n",
        "plt.yticks(fontsize=12)  # rotation=0 keeps them horizontal\n",
        "plt.grid(True, linestyle='--', alpha=0.7)\n",
        "plt.savefig(\"ROC_curve_detections_filtered.pdf\", format='pdf', dpi=300, bbox_inches='tight')\n",
        "plt.show()"
      ],
      "metadata": {
        "id": "Gf-N4xskwznB"
      },
      "execution_count": null,
      "outputs": []
    },
    {
      "cell_type": "code",
      "source": [
        "# Converte índice para segundos\n",
        "time = np.arange(len(y)) / sr\n",
        "\n",
        "plt.figure(figsize=(23, 4))\n",
        "plt.plot(time, y)\n",
        "plt.plot(time, preds_expanded_filtered, 'r')\n",
        "for t in df['TIME'].values:\n",
        "    plt.axvline(x=t, color='black', linestyle='--')\n",
        "\n",
        "# plt.xlim([0, np.max(time)])\n",
        "plt.xlim([0, 325])\n",
        "plt.ylim([-1, 1.05])\n",
        "plt.grid(False)\n",
        "plt.xlabel(\"Time (seconds)\", fontsize=16)\n",
        "plt.ylabel(\"Amplitude\", fontsize=16)\n",
        "plt.legend([\"Sinal\", \"Detection\", \"Annotations\"], loc='lower left', fontsize=14)\n",
        "plt.xticks(fontsize=14)\n",
        "plt.yticks(fontsize=14)\n",
        "plt.savefig(\"detections_filtered.pdf\", format='pdf', dpi=300, bbox_inches='tight')\n",
        "plt.show()"
      ],
      "metadata": {
        "id": "nQTOoyfaykE6"
      },
      "execution_count": null,
      "outputs": []
    },
    {
      "cell_type": "code",
      "source": [
        "def find_segments(binary):\n",
        "    \"\"\"\n",
        "    Retorna lista de (start, end) em amostras\n",
        "    onde binary == 1.\n",
        "    \"\"\"\n",
        "    b = np.asarray(binary).astype(int)\n",
        "    if b.sum() == 0:\n",
        "        return []\n",
        "\n",
        "    diff = np.diff(np.concatenate([[0], b, [0]]))\n",
        "    starts = np.where(diff == 1)[0]\n",
        "    ends = np.where(diff == -1)[0]\n",
        "\n",
        "    return list(zip(starts, ends))\n",
        "\n",
        "# encontra segmentos (sem filtro de duração)\n",
        "segments = find_segments(preds_expanded_filtered)\n",
        "\n",
        "print(f\"Found {len(segments)} segments\")\n",
        "\n",
        "# Loop para gerar um espectrograma por vez\n",
        "for i, (s, e) in enumerate(segments):\n",
        "    y_seg = y[s:e]\n",
        "\n",
        "    # índice da predição correspondente (janela que começa em s)\n",
        "    pred_index = s // hop_len\n",
        "    conf = decision_scores_filtered[pred_index] if pred_index < len(decision_scores_filtered) else None\n",
        "\n",
        "    # STFT\n",
        "    S = np.abs(librosa.stft(y_seg, n_fft=2048, hop_length=256))\n",
        "    S_db = librosa.amplitude_to_db(S, ref=np.max)\n",
        "\n",
        "    # Nova figura para cada espectrograma\n",
        "    plt.figure(figsize=(10, 3), dpi=200)\n",
        "    librosa.display.specshow(S_db, sr=sr, hop_length=256,\n",
        "                             x_axis='time', y_axis='hz', cmap='magma')\n",
        "    # plt.colorbar(format='%+2.0f dB')\n",
        "\n",
        "    # # título com confiança\n",
        "    # if conf is not None:\n",
        "    #     title = f\"Segment {i+1}: {s/sr:.1f}-{e/sr:.1f}s(p10 ** y) * ((1 - p10) ** (T - y)) | decision score: {conf:.4f}\"\n",
        "    # else:\n",
        "    #     title = f\"Segment {i+1}: {s/sr:.1f}-{e/sr:.1f}s\"\n",
        "\n",
        "    # plt.title(title)\n",
        "    plt.tight_layout()\n",
        "    plt.show()"
      ],
      "metadata": {
        "id": "S_mIYe4qy4oA"
      },
      "execution_count": null,
      "outputs": []
    },
    {
      "cell_type": "code",
      "source": [
        "plt.figure(figsize=(5.4, 5))\n",
        "plt.plot(fpr6, tpr6, lw=1.5, label='Without filter (AUC = %0.2f)' % roc_auc_detections)\n",
        "plt.plot(fpr7, tpr7, lw=1.5, label='With filter (AUC = %0.2f)' % roc_auc_detections_filtered)\n",
        "plt.plot([0, 1], [0, 1], color='navy', lw=1.5, linestyle='--')\n",
        "plt.xlim([-0.01, 1.0])\n",
        "plt.ylim([0.0, 1.01])\n",
        "plt.legend(loc=\"lower right\", fontsize=10)\n",
        "plt.ylabel('True Positive Rate', fontsize=12)\n",
        "plt.xlabel('False Positive Rate', fontsize=12)\n",
        "plt.xticks(fontsize=12)\n",
        "plt.yticks(fontsize=12)  # rotation=0 keeps them horizontal\n",
        "plt.grid(True, linestyle='--', alpha=0.7)\n",
        "plt.savefig(\"ROC_curve_detections.pdf\", format='pdf', dpi=300, bbox_inches='tight')\n",
        "plt.show()"
      ],
      "metadata": {
        "id": "6gqvXOIwx46P"
      },
      "execution_count": null,
      "outputs": []
    }
  ],
  "metadata": {
    "colab": {
      "provenance": []
    },
    "kernelspec": {
      "display_name": "Python 3",
      "name": "python3"
    },
    "language_info": {
      "name": "python"
    }
  },
  "nbformat": 4,
  "nbformat_minor": 0
}